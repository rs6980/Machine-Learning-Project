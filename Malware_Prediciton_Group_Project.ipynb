{
 "cells": [
  {
   "cell_type": "markdown",
   "metadata": {},
   "source": [
    "# 1. Introduction"
   ]
  },
  {
   "cell_type": "markdown",
   "metadata": {},
   "source": [
    "## 1.1 Description of Problem"
   ]
  },
  {
   "cell_type": "markdown",
   "metadata": {},
   "source": [
    "The malware industry continues to be a well-organized, well-funded market dedicated to evading traditional security measures. Once a computer is infected by malware, criminals can hurt consumers and enterprises in many ways. This project aims in classifying if a malware can/can’t infect a window’s machine based on different properties of the machine.  The model classifies if a machine is getting infected by malware by performing Machine learning algorithms such as Support Vector Machines, Logistic Regression and LightGBM  and then compare the performance of the models using some performance metrics such as Area under curve, F1 score and precision recall."
   ]
  },
  {
   "cell_type": "markdown",
   "metadata": {},
   "source": [
    "## 1.2 Motivation of Problem"
   ]
  },
  {
   "cell_type": "markdown",
   "metadata": {},
   "source": [
    "The problem is one of those real world problems where machine learning can be used to benefit users from getting attacked by malware. This problem was selected as it helps us to apply machine learning algorithm in one of the real world problems. The classification problem also helps us in learning some of the basic feature engineering techniques such as categorical feature handling using one hot encoder, handling large datasets and deriving new features from existing ones which are essential for any machine learning engineer. Moreover this problem helps us in applying algorithms learnt during the course such as applying Support Vector Machines using Linear and Gaussian Kernel on a large dataset as well as exploring into the world of competitive Machine learning where we would be testing algorithms such as LightGBM which is a tree based ensemble model."
   ]
  },
  {
   "cell_type": "markdown",
   "metadata": {},
   "source": [
    "# 2. References"
   ]
  },
  {
   "cell_type": "markdown",
   "metadata": {},
   "source": [
    "1.https://www.kaggle.com/c/microsoft-malware-prediction/<br>\n",
    "2.https://medium.com/hugo-ferreiras-blog/dealing-with-categorical-features-in-machine-learning-1bb70f07262d<br>\n",
    "3.https://medium.com/@pushkarmandot/https-medium-com-pushkarmandot-what-is-lightgbm-how-to-implement-it-how-to-fine-tune-the-parameters-60347819b7fc<br>\n",
    "4.https://lightgbm.readthedocs.io/en/latest/<br>\n"
   ]
  },
  {
   "cell_type": "markdown",
   "metadata": {},
   "source": [
    "# 3. Model"
   ]
  },
  {
   "cell_type": "markdown",
   "metadata": {},
   "source": [
    "## 3.1 Description of Methodology"
   ]
  },
  {
   "cell_type": "markdown",
   "metadata": {},
   "source": [
    "#####  Splitting data into training and validation set <br>\n",
    "For reduing the search space for hyper parameter testing, we will split the training data into training and validation data in a 75% 25% ratio. This data will be randomly picked using train_test_split. Actual validation testing will be discussed below<br>\n",
    "<br>\n",
    "##### Replacing missing data <br>\n",
    "We intend to replace all the missing values ( NAN ) of numerical features with the median value for that particular feature. For categorical features we will replace the missing values with the mode. \n",
    "<br>\n",
    "##### Feature Engineering <br>\n",
    "For some of the features such as ‘Census_InternalBatteryType’ we group the data as lithiom or not. For that we find the instances which have li as the prefix. We also create numerically engineered features such as “Disk_remain” using  'Census_PrimaryDiskTotalCapacity' and 'Census_SystemVolumeTotalCapacity'. We intend to the same modifications with the test data as well.\n",
    "##### Categorical Feature Handling <br>\n",
    "There are around 30 features having categorical features. We use one hot encoding for all the categorical features before deploying a Machine Learning model. <br>\n",
    "To do this we will use use OneHotEncoder() from sklearn.preprocessing. The new feature vector would then be stored in sparse matrix in order to reduce memory footprint as well as improve the performance of the machine learning model.\n",
    "The same encoding will be performed to the test data as well<br>\n",
    "Alternatively, if one hot encoding takes a lot of time to train our model, we will use ordinal encoding which can be used with tree based model. Since LightGBM handles categorical features internally, we won’t be needing to do that explicitly.<br>\n",
    "##### Dimensionality Reduction <br>\n",
    "Since after one hot encoding, the dimension of the design matrix becomes huge such that training our model becomes computationally expensive. We use only a set of selected features for training our model. We use RandomForestClassifier to give us an initial estimate of the importance of features. After that we threshold the importance and remove the features which lie below a certain threshold \n",
    "<br>\n",
    "##### Machine Learning Model\n",
    "We will be using three machine learning models and will be comparing their performance\n",
    "1. Random Forest - We are using sklearn's RandomForestClassifier to train our model. \n",
    "2. Linear SVM - We are using sklearn's LinearSVC to train our model. The implementation of LinearSVC will be done in two ways. One will be with the entire design matrix and the second will be after removing the features according to the importance values we receive from Random Forest. We will test our hypothesis that SVM will perform better if unimportant features are removed from the dataset\n",
    "3. LGBMClassifier. We are training our model using one of the popular techniques used in competetive Machine learning community. Since we do not require One hot encoding for this, we will train the model using the original dataset. LGBMClassifier uses internal frequency coding for handling categorical features\n",
    "We will compare the performance of each model<br>\n",
    "##### Validation Testing<br>\n",
    "Validation testing would be performed using K-Fold validation technique. We would be using a 5 fold validation since the daa would be large. Sk-learn’s KFold package would be used for this purpose<br>\n",
    "##### HyperParameter Tuning<br>\n",
    "GridSearchCV will be used for tuning our SVM model. Parameters like C and gamma will be tuned. Since GridSearchCV does K fold validation internally, we wont need to do validation testing explicitly<br>\n",
    "##### Performance Testing<br>\n",
    "We will measure the accuracy of the classification through a AccuracyScore of sklearn. Moreover we would plot the confusion matrix for checking for false positives and false negatives. Area under the curve will be used to check for false positives against true positives.\n"
   ]
  },
  {
   "cell_type": "markdown",
   "metadata": {},
   "source": [
    "## 3.2 Algorithm"
   ]
  },
  {
   "cell_type": "markdown",
   "metadata": {},
   "source": [
    "In this section, we will briefly discuss the steps we have taken to calculate the accuracy of our model in the notebook\n"
   ]
  },
  {
   "cell_type": "markdown",
   "metadata": {},
   "source": [
    "1. Load the data. Split the data into labels and training data<br>\n",
    "2. Do feature engineering<br>\n",
    "2.1. Convert 'SmartScreen' to lower<br>\n",
    "2.2. Group  'Census_InternalBatteryType' according to lithium and non lithium<br>\n",
    "2.3. Numerically generate more features.<br>\n",
    "3. Impute mssing values. Impute using median for numerical features and mode for categorical features<br>\n",
    "4. One hot encode the data<br>\n",
    "5. Train RandomForestClassifier as follows<br>\n",
    "5.1. Reduce the search space over hyper parameters by individually conducting validation testing for each parameter. Hyper parameters = min_leaves, n_estimators,max_depth<br>\n",
    "5.2. Do GridSearchCV over the reduced hyperparameter space<br>\n",
    "5.3. Train the model using the best hyper parameters using the results from the above steps<br>\n",
    "5.4. Obtain accuracy from the test data by taking a mean over the misclassifications<br>\n",
    "5.5 Store the feature importances<br>\n",
    "6. Train SVM as follows<br>\n",
    "6.1 Do hyperparameter tuning over C using GridSearchCV<br>\n",
    "6.2 Repeat steps 5.3 - 5.5 to obtain accuracy<br>\n",
    "7. Train SVM after performing dimensionality reduction as follows<br>\n",
    "7.1 Using feature importance, perform thresholding by taking the least 10 important feature values from random forest and removing features which have importance less than that. Do validation testing to obtain performance metrics<br>\n",
    "7.2 Train the model using the dataset dimensions having the least error. Perform hyperparameter tuning and then repeat steps 5.3-5.5 to obtain accuracy<br>\n",
    "8. Train LGBMClassifier in the same way Random forest was trained to obtain accuracy<br>\n",
    "9. Plot Confusion matrix and obtain AUC score using sklearn from predicted labels and true labels<br>\n"
   ]
  },
  {
   "cell_type": "markdown",
   "metadata": {},
   "source": [
    "# 4. Experiments "
   ]
  },
  {
   "cell_type": "markdown",
   "metadata": {},
   "source": [
    "In the following section we will go through the code"
   ]
  },
  {
   "cell_type": "markdown",
   "metadata": {},
   "source": [
    "## 4.1 Description of dataset"
   ]
  },
  {
   "cell_type": "markdown",
   "metadata": {},
   "source": [
    "The data set was obtained from kaggle https://www.kaggle.com/c/microsoft-malware-prediction/data"
   ]
  },
  {
   "cell_type": "markdown",
   "metadata": {},
   "source": [
    "The goal of this competition is to predict a Windows machine’s probability of getting infected by various families of malware, based on different properties of that machine. The telemetry data containing these properties and the machine infections was generated by combining heartbeat and threat reports collected by Microsoft's endpoint protection solution, Windows Defender.\n",
    "\n",
    "Each row in this dataset corresponds to a machine, uniquely identified by a MachineIdentifier. HasDetections is the ground truth and indicates that Malware was detected on the machine. Using the information and labels in train.csv, you must predict the value for HasDetections for each machine in test.csv."
   ]
  },
  {
   "cell_type": "code",
   "execution_count": 2,
   "metadata": {
    "colab": {},
    "colab_type": "code",
    "id": "9wJ4036A8-HH"
   },
   "outputs": [],
   "source": [
    "import pandas as pd\n",
    "import numpy as np\n",
    "import matplotlib.pyplot as plt\n",
    "import seaborn as sns\n",
    "from sklearn.impute import SimpleImputer\n",
    "import pickle\n",
    "import os\n",
    "from sklearn.model_selection import train_test_split\n",
    "from warnings import simplefilter\n",
    "simplefilter(action='ignore', category=FutureWarning)"
   ]
  },
  {
   "cell_type": "code",
   "execution_count": 3,
   "metadata": {
    "colab": {},
    "colab_type": "code",
    "id": "_I69eFAP8-Hf"
   },
   "outputs": [],
   "source": [
    "data = pd.read_excel(\"train.xlsx\",low_memory=True)\n",
    "X_test = pd.read_excel(\"test.xlsx\",low_memory=True)"
   ]
  },
  {
   "cell_type": "markdown",
   "metadata": {},
   "source": [
    "Below are some statistics of the dataset we have. The data does not display characteristics of categorical features"
   ]
  },
  {
   "cell_type": "code",
   "execution_count": 3,
   "metadata": {},
   "outputs": [
    {
     "data": {
      "text/html": [
       "<div>\n",
       "<style scoped>\n",
       "    .dataframe tbody tr th:only-of-type {\n",
       "        vertical-align: middle;\n",
       "    }\n",
       "\n",
       "    .dataframe tbody tr th {\n",
       "        vertical-align: top;\n",
       "    }\n",
       "\n",
       "    .dataframe thead th {\n",
       "        text-align: right;\n",
       "    }\n",
       "</style>\n",
       "<table border=\"1\" class=\"dataframe\">\n",
       "  <thead>\n",
       "    <tr style=\"text-align: right;\">\n",
       "      <th></th>\n",
       "      <th>IsBeta</th>\n",
       "      <th>RtpStateBitfield</th>\n",
       "      <th>IsSxsPassiveMode</th>\n",
       "      <th>DefaultBrowsersIdentifier</th>\n",
       "      <th>AVProductStatesIdentifier</th>\n",
       "      <th>AVProductsInstalled</th>\n",
       "      <th>AVProductsEnabled</th>\n",
       "      <th>HasTpm</th>\n",
       "      <th>CountryIdentifier</th>\n",
       "      <th>CityIdentifier</th>\n",
       "      <th>...</th>\n",
       "      <th>Census_FirmwareVersionIdentifier</th>\n",
       "      <th>Census_IsSecureBootEnabled</th>\n",
       "      <th>Census_IsWIMBootEnabled</th>\n",
       "      <th>Census_IsVirtualDevice</th>\n",
       "      <th>Census_IsTouchEnabled</th>\n",
       "      <th>Census_IsPenCapable</th>\n",
       "      <th>Census_IsAlwaysOnAlwaysConnectedCapable</th>\n",
       "      <th>Wdft_IsGamer</th>\n",
       "      <th>Wdft_RegionIdentifier</th>\n",
       "      <th>HasDetections</th>\n",
       "    </tr>\n",
       "  </thead>\n",
       "  <tbody>\n",
       "    <tr>\n",
       "      <th>count</th>\n",
       "      <td>149999.0</td>\n",
       "      <td>149426.000000</td>\n",
       "      <td>149999.000000</td>\n",
       "      <td>7283.000000</td>\n",
       "      <td>149397.000000</td>\n",
       "      <td>149397.000000</td>\n",
       "      <td>149397.000000</td>\n",
       "      <td>149999.000000</td>\n",
       "      <td>149999.000000</td>\n",
       "      <td>144573.000000</td>\n",
       "      <td>...</td>\n",
       "      <td>147318.000000</td>\n",
       "      <td>149999.000000</td>\n",
       "      <td>54800.0</td>\n",
       "      <td>149731.000000</td>\n",
       "      <td>149999.000000</td>\n",
       "      <td>149999.000000</td>\n",
       "      <td>148772.000000</td>\n",
       "      <td>144949.000000</td>\n",
       "      <td>144949.000000</td>\n",
       "      <td>149999.000000</td>\n",
       "    </tr>\n",
       "    <tr>\n",
       "      <th>mean</th>\n",
       "      <td>0.0</td>\n",
       "      <td>6.845817</td>\n",
       "      <td>0.017427</td>\n",
       "      <td>1645.883839</td>\n",
       "      <td>47864.525278</td>\n",
       "      <td>1.324766</td>\n",
       "      <td>1.020944</td>\n",
       "      <td>0.987493</td>\n",
       "      <td>108.105854</td>\n",
       "      <td>81293.794547</td>\n",
       "      <td>...</td>\n",
       "      <td>33034.742116</td>\n",
       "      <td>0.485663</td>\n",
       "      <td>0.0</td>\n",
       "      <td>0.006886</td>\n",
       "      <td>0.125294</td>\n",
       "      <td>0.037794</td>\n",
       "      <td>0.057585</td>\n",
       "      <td>0.281809</td>\n",
       "      <td>7.867333</td>\n",
       "      <td>0.500043</td>\n",
       "    </tr>\n",
       "    <tr>\n",
       "      <th>std</th>\n",
       "      <td>0.0</td>\n",
       "      <td>1.025095</td>\n",
       "      <td>0.130856</td>\n",
       "      <td>999.417846</td>\n",
       "      <td>14012.368199</td>\n",
       "      <td>0.521138</td>\n",
       "      <td>0.166095</td>\n",
       "      <td>0.111132</td>\n",
       "      <td>62.937719</td>\n",
       "      <td>48924.552639</td>\n",
       "      <td>...</td>\n",
       "      <td>21221.335088</td>\n",
       "      <td>0.499796</td>\n",
       "      <td>0.0</td>\n",
       "      <td>0.082694</td>\n",
       "      <td>0.331053</td>\n",
       "      <td>0.190697</td>\n",
       "      <td>0.232957</td>\n",
       "      <td>0.449883</td>\n",
       "      <td>4.560350</td>\n",
       "      <td>0.500002</td>\n",
       "    </tr>\n",
       "    <tr>\n",
       "      <th>min</th>\n",
       "      <td>0.0</td>\n",
       "      <td>0.000000</td>\n",
       "      <td>0.000000</td>\n",
       "      <td>1.000000</td>\n",
       "      <td>39.000000</td>\n",
       "      <td>1.000000</td>\n",
       "      <td>0.000000</td>\n",
       "      <td>0.000000</td>\n",
       "      <td>1.000000</td>\n",
       "      <td>7.000000</td>\n",
       "      <td>...</td>\n",
       "      <td>5.000000</td>\n",
       "      <td>0.000000</td>\n",
       "      <td>0.0</td>\n",
       "      <td>0.000000</td>\n",
       "      <td>0.000000</td>\n",
       "      <td>0.000000</td>\n",
       "      <td>0.000000</td>\n",
       "      <td>0.000000</td>\n",
       "      <td>1.000000</td>\n",
       "      <td>0.000000</td>\n",
       "    </tr>\n",
       "    <tr>\n",
       "      <th>25%</th>\n",
       "      <td>0.0</td>\n",
       "      <td>7.000000</td>\n",
       "      <td>0.000000</td>\n",
       "      <td>788.000000</td>\n",
       "      <td>49480.000000</td>\n",
       "      <td>1.000000</td>\n",
       "      <td>1.000000</td>\n",
       "      <td>1.000000</td>\n",
       "      <td>51.000000</td>\n",
       "      <td>36825.000000</td>\n",
       "      <td>...</td>\n",
       "      <td>13156.000000</td>\n",
       "      <td>0.000000</td>\n",
       "      <td>0.0</td>\n",
       "      <td>0.000000</td>\n",
       "      <td>0.000000</td>\n",
       "      <td>0.000000</td>\n",
       "      <td>0.000000</td>\n",
       "      <td>0.000000</td>\n",
       "      <td>3.000000</td>\n",
       "      <td>0.000000</td>\n",
       "    </tr>\n",
       "    <tr>\n",
       "      <th>50%</th>\n",
       "      <td>0.0</td>\n",
       "      <td>7.000000</td>\n",
       "      <td>0.000000</td>\n",
       "      <td>1632.000000</td>\n",
       "      <td>53447.000000</td>\n",
       "      <td>1.000000</td>\n",
       "      <td>1.000000</td>\n",
       "      <td>1.000000</td>\n",
       "      <td>97.000000</td>\n",
       "      <td>82373.000000</td>\n",
       "      <td>...</td>\n",
       "      <td>33070.000000</td>\n",
       "      <td>0.000000</td>\n",
       "      <td>0.0</td>\n",
       "      <td>0.000000</td>\n",
       "      <td>0.000000</td>\n",
       "      <td>0.000000</td>\n",
       "      <td>0.000000</td>\n",
       "      <td>0.000000</td>\n",
       "      <td>10.000000</td>\n",
       "      <td>1.000000</td>\n",
       "    </tr>\n",
       "    <tr>\n",
       "      <th>75%</th>\n",
       "      <td>0.0</td>\n",
       "      <td>7.000000</td>\n",
       "      <td>0.000000</td>\n",
       "      <td>2291.000000</td>\n",
       "      <td>53447.000000</td>\n",
       "      <td>2.000000</td>\n",
       "      <td>1.000000</td>\n",
       "      <td>1.000000</td>\n",
       "      <td>162.000000</td>\n",
       "      <td>123784.000000</td>\n",
       "      <td>...</td>\n",
       "      <td>52436.000000</td>\n",
       "      <td>1.000000</td>\n",
       "      <td>0.0</td>\n",
       "      <td>0.000000</td>\n",
       "      <td>0.000000</td>\n",
       "      <td>0.000000</td>\n",
       "      <td>0.000000</td>\n",
       "      <td>1.000000</td>\n",
       "      <td>11.000000</td>\n",
       "      <td>1.000000</td>\n",
       "    </tr>\n",
       "    <tr>\n",
       "      <th>max</th>\n",
       "      <td>0.0</td>\n",
       "      <td>8.000000</td>\n",
       "      <td>1.000000</td>\n",
       "      <td>3204.000000</td>\n",
       "      <td>70486.000000</td>\n",
       "      <td>5.000000</td>\n",
       "      <td>4.000000</td>\n",
       "      <td>1.000000</td>\n",
       "      <td>222.000000</td>\n",
       "      <td>167953.000000</td>\n",
       "      <td>...</td>\n",
       "      <td>72091.000000</td>\n",
       "      <td>1.000000</td>\n",
       "      <td>0.0</td>\n",
       "      <td>1.000000</td>\n",
       "      <td>1.000000</td>\n",
       "      <td>1.000000</td>\n",
       "      <td>1.000000</td>\n",
       "      <td>1.000000</td>\n",
       "      <td>15.000000</td>\n",
       "      <td>1.000000</td>\n",
       "    </tr>\n",
       "  </tbody>\n",
       "</table>\n",
       "<p>8 rows × 53 columns</p>\n",
       "</div>"
      ],
      "text/plain": [
       "         IsBeta  RtpStateBitfield  IsSxsPassiveMode  \\\n",
       "count  149999.0     149426.000000     149999.000000   \n",
       "mean        0.0          6.845817          0.017427   \n",
       "std         0.0          1.025095          0.130856   \n",
       "min         0.0          0.000000          0.000000   \n",
       "25%         0.0          7.000000          0.000000   \n",
       "50%         0.0          7.000000          0.000000   \n",
       "75%         0.0          7.000000          0.000000   \n",
       "max         0.0          8.000000          1.000000   \n",
       "\n",
       "       DefaultBrowsersIdentifier  AVProductStatesIdentifier  \\\n",
       "count                7283.000000              149397.000000   \n",
       "mean                 1645.883839               47864.525278   \n",
       "std                   999.417846               14012.368199   \n",
       "min                     1.000000                  39.000000   \n",
       "25%                   788.000000               49480.000000   \n",
       "50%                  1632.000000               53447.000000   \n",
       "75%                  2291.000000               53447.000000   \n",
       "max                  3204.000000               70486.000000   \n",
       "\n",
       "       AVProductsInstalled  AVProductsEnabled         HasTpm  \\\n",
       "count        149397.000000      149397.000000  149999.000000   \n",
       "mean              1.324766           1.020944       0.987493   \n",
       "std               0.521138           0.166095       0.111132   \n",
       "min               1.000000           0.000000       0.000000   \n",
       "25%               1.000000           1.000000       1.000000   \n",
       "50%               1.000000           1.000000       1.000000   \n",
       "75%               2.000000           1.000000       1.000000   \n",
       "max               5.000000           4.000000       1.000000   \n",
       "\n",
       "       CountryIdentifier  CityIdentifier  ...  \\\n",
       "count      149999.000000   144573.000000  ...   \n",
       "mean          108.105854    81293.794547  ...   \n",
       "std            62.937719    48924.552639  ...   \n",
       "min             1.000000        7.000000  ...   \n",
       "25%            51.000000    36825.000000  ...   \n",
       "50%            97.000000    82373.000000  ...   \n",
       "75%           162.000000   123784.000000  ...   \n",
       "max           222.000000   167953.000000  ...   \n",
       "\n",
       "       Census_FirmwareVersionIdentifier  Census_IsSecureBootEnabled  \\\n",
       "count                     147318.000000               149999.000000   \n",
       "mean                       33034.742116                    0.485663   \n",
       "std                        21221.335088                    0.499796   \n",
       "min                            5.000000                    0.000000   \n",
       "25%                        13156.000000                    0.000000   \n",
       "50%                        33070.000000                    0.000000   \n",
       "75%                        52436.000000                    1.000000   \n",
       "max                        72091.000000                    1.000000   \n",
       "\n",
       "       Census_IsWIMBootEnabled  Census_IsVirtualDevice  Census_IsTouchEnabled  \\\n",
       "count                  54800.0           149731.000000          149999.000000   \n",
       "mean                       0.0                0.006886               0.125294   \n",
       "std                        0.0                0.082694               0.331053   \n",
       "min                        0.0                0.000000               0.000000   \n",
       "25%                        0.0                0.000000               0.000000   \n",
       "50%                        0.0                0.000000               0.000000   \n",
       "75%                        0.0                0.000000               0.000000   \n",
       "max                        0.0                1.000000               1.000000   \n",
       "\n",
       "       Census_IsPenCapable  Census_IsAlwaysOnAlwaysConnectedCapable  \\\n",
       "count        149999.000000                            148772.000000   \n",
       "mean              0.037794                                 0.057585   \n",
       "std               0.190697                                 0.232957   \n",
       "min               0.000000                                 0.000000   \n",
       "25%               0.000000                                 0.000000   \n",
       "50%               0.000000                                 0.000000   \n",
       "75%               0.000000                                 0.000000   \n",
       "max               1.000000                                 1.000000   \n",
       "\n",
       "        Wdft_IsGamer  Wdft_RegionIdentifier  HasDetections  \n",
       "count  144949.000000          144949.000000  149999.000000  \n",
       "mean        0.281809               7.867333       0.500043  \n",
       "std         0.449883               4.560350       0.500002  \n",
       "min         0.000000               1.000000       0.000000  \n",
       "25%         0.000000               3.000000       0.000000  \n",
       "50%         0.000000              10.000000       1.000000  \n",
       "75%         1.000000              11.000000       1.000000  \n",
       "max         1.000000              15.000000       1.000000  \n",
       "\n",
       "[8 rows x 53 columns]"
      ]
     },
     "execution_count": 3,
     "metadata": {},
     "output_type": "execute_result"
    }
   ],
   "source": [
    "data.describe()"
   ]
  },
  {
   "cell_type": "markdown",
   "metadata": {},
   "source": [
    "This is a sample data"
   ]
  },
  {
   "cell_type": "code",
   "execution_count": 4,
   "metadata": {},
   "outputs": [
    {
     "data": {
      "text/html": [
       "<div>\n",
       "<style scoped>\n",
       "    .dataframe tbody tr th:only-of-type {\n",
       "        vertical-align: middle;\n",
       "    }\n",
       "\n",
       "    .dataframe tbody tr th {\n",
       "        vertical-align: top;\n",
       "    }\n",
       "\n",
       "    .dataframe thead th {\n",
       "        text-align: right;\n",
       "    }\n",
       "</style>\n",
       "<table border=\"1\" class=\"dataframe\">\n",
       "  <thead>\n",
       "    <tr style=\"text-align: right;\">\n",
       "      <th></th>\n",
       "      <th>MachineIdentifier</th>\n",
       "      <th>ProductName</th>\n",
       "      <th>EngineVersion</th>\n",
       "      <th>AppVersion</th>\n",
       "      <th>AvSigVersion</th>\n",
       "      <th>IsBeta</th>\n",
       "      <th>RtpStateBitfield</th>\n",
       "      <th>IsSxsPassiveMode</th>\n",
       "      <th>DefaultBrowsersIdentifier</th>\n",
       "      <th>AVProductStatesIdentifier</th>\n",
       "      <th>...</th>\n",
       "      <th>Census_FirmwareVersionIdentifier</th>\n",
       "      <th>Census_IsSecureBootEnabled</th>\n",
       "      <th>Census_IsWIMBootEnabled</th>\n",
       "      <th>Census_IsVirtualDevice</th>\n",
       "      <th>Census_IsTouchEnabled</th>\n",
       "      <th>Census_IsPenCapable</th>\n",
       "      <th>Census_IsAlwaysOnAlwaysConnectedCapable</th>\n",
       "      <th>Wdft_IsGamer</th>\n",
       "      <th>Wdft_RegionIdentifier</th>\n",
       "      <th>HasDetections</th>\n",
       "    </tr>\n",
       "  </thead>\n",
       "  <tbody>\n",
       "    <tr>\n",
       "      <th>0</th>\n",
       "      <td>0000028988387b115f69f31a3bf04f09</td>\n",
       "      <td>win8defender</td>\n",
       "      <td>1.1.15100.1</td>\n",
       "      <td>4.18.1807.18075</td>\n",
       "      <td>1.273.1735.0</td>\n",
       "      <td>0</td>\n",
       "      <td>7.0</td>\n",
       "      <td>0</td>\n",
       "      <td>NaN</td>\n",
       "      <td>53447.0</td>\n",
       "      <td>...</td>\n",
       "      <td>36144.0</td>\n",
       "      <td>0</td>\n",
       "      <td>NaN</td>\n",
       "      <td>0.0</td>\n",
       "      <td>0</td>\n",
       "      <td>0</td>\n",
       "      <td>0.0</td>\n",
       "      <td>0.0</td>\n",
       "      <td>10.0</td>\n",
       "      <td>0</td>\n",
       "    </tr>\n",
       "    <tr>\n",
       "      <th>1</th>\n",
       "      <td>000007535c3f730efa9ea0b7ef1bd645</td>\n",
       "      <td>win8defender</td>\n",
       "      <td>1.1.14600.4</td>\n",
       "      <td>4.13.17134.1</td>\n",
       "      <td>1.263.48.0</td>\n",
       "      <td>0</td>\n",
       "      <td>7.0</td>\n",
       "      <td>0</td>\n",
       "      <td>NaN</td>\n",
       "      <td>53447.0</td>\n",
       "      <td>...</td>\n",
       "      <td>57858.0</td>\n",
       "      <td>0</td>\n",
       "      <td>NaN</td>\n",
       "      <td>0.0</td>\n",
       "      <td>0</td>\n",
       "      <td>0</td>\n",
       "      <td>0.0</td>\n",
       "      <td>0.0</td>\n",
       "      <td>8.0</td>\n",
       "      <td>0</td>\n",
       "    </tr>\n",
       "    <tr>\n",
       "      <th>2</th>\n",
       "      <td>000007905a28d863f6d0d597892cd692</td>\n",
       "      <td>win8defender</td>\n",
       "      <td>1.1.15100.1</td>\n",
       "      <td>4.18.1807.18075</td>\n",
       "      <td>1.273.1341.0</td>\n",
       "      <td>0</td>\n",
       "      <td>7.0</td>\n",
       "      <td>0</td>\n",
       "      <td>NaN</td>\n",
       "      <td>53447.0</td>\n",
       "      <td>...</td>\n",
       "      <td>52682.0</td>\n",
       "      <td>0</td>\n",
       "      <td>NaN</td>\n",
       "      <td>0.0</td>\n",
       "      <td>0</td>\n",
       "      <td>0</td>\n",
       "      <td>0.0</td>\n",
       "      <td>0.0</td>\n",
       "      <td>3.0</td>\n",
       "      <td>0</td>\n",
       "    </tr>\n",
       "    <tr>\n",
       "      <th>3</th>\n",
       "      <td>00000b11598a75ea8ba1beea8459149f</td>\n",
       "      <td>win8defender</td>\n",
       "      <td>1.1.15100.1</td>\n",
       "      <td>4.18.1807.18075</td>\n",
       "      <td>1.273.1527.0</td>\n",
       "      <td>0</td>\n",
       "      <td>7.0</td>\n",
       "      <td>0</td>\n",
       "      <td>NaN</td>\n",
       "      <td>53447.0</td>\n",
       "      <td>...</td>\n",
       "      <td>20050.0</td>\n",
       "      <td>0</td>\n",
       "      <td>NaN</td>\n",
       "      <td>0.0</td>\n",
       "      <td>0</td>\n",
       "      <td>0</td>\n",
       "      <td>0.0</td>\n",
       "      <td>0.0</td>\n",
       "      <td>3.0</td>\n",
       "      <td>1</td>\n",
       "    </tr>\n",
       "    <tr>\n",
       "      <th>4</th>\n",
       "      <td>000014a5f00daa18e76b81417eeb99fc</td>\n",
       "      <td>win8defender</td>\n",
       "      <td>1.1.15100.1</td>\n",
       "      <td>4.18.1807.18075</td>\n",
       "      <td>1.273.1379.0</td>\n",
       "      <td>0</td>\n",
       "      <td>7.0</td>\n",
       "      <td>0</td>\n",
       "      <td>NaN</td>\n",
       "      <td>53447.0</td>\n",
       "      <td>...</td>\n",
       "      <td>19844.0</td>\n",
       "      <td>0</td>\n",
       "      <td>0.0</td>\n",
       "      <td>0.0</td>\n",
       "      <td>0</td>\n",
       "      <td>0</td>\n",
       "      <td>0.0</td>\n",
       "      <td>0.0</td>\n",
       "      <td>1.0</td>\n",
       "      <td>1</td>\n",
       "    </tr>\n",
       "  </tbody>\n",
       "</table>\n",
       "<p>5 rows × 83 columns</p>\n",
       "</div>"
      ],
      "text/plain": [
       "                  MachineIdentifier   ProductName EngineVersion  \\\n",
       "0  0000028988387b115f69f31a3bf04f09  win8defender   1.1.15100.1   \n",
       "1  000007535c3f730efa9ea0b7ef1bd645  win8defender   1.1.14600.4   \n",
       "2  000007905a28d863f6d0d597892cd692  win8defender   1.1.15100.1   \n",
       "3  00000b11598a75ea8ba1beea8459149f  win8defender   1.1.15100.1   \n",
       "4  000014a5f00daa18e76b81417eeb99fc  win8defender   1.1.15100.1   \n",
       "\n",
       "        AppVersion  AvSigVersion  IsBeta  RtpStateBitfield  IsSxsPassiveMode  \\\n",
       "0  4.18.1807.18075  1.273.1735.0       0               7.0                 0   \n",
       "1     4.13.17134.1    1.263.48.0       0               7.0                 0   \n",
       "2  4.18.1807.18075  1.273.1341.0       0               7.0                 0   \n",
       "3  4.18.1807.18075  1.273.1527.0       0               7.0                 0   \n",
       "4  4.18.1807.18075  1.273.1379.0       0               7.0                 0   \n",
       "\n",
       "   DefaultBrowsersIdentifier  AVProductStatesIdentifier  ...  \\\n",
       "0                        NaN                    53447.0  ...   \n",
       "1                        NaN                    53447.0  ...   \n",
       "2                        NaN                    53447.0  ...   \n",
       "3                        NaN                    53447.0  ...   \n",
       "4                        NaN                    53447.0  ...   \n",
       "\n",
       "   Census_FirmwareVersionIdentifier  Census_IsSecureBootEnabled  \\\n",
       "0                           36144.0                           0   \n",
       "1                           57858.0                           0   \n",
       "2                           52682.0                           0   \n",
       "3                           20050.0                           0   \n",
       "4                           19844.0                           0   \n",
       "\n",
       "   Census_IsWIMBootEnabled  Census_IsVirtualDevice  Census_IsTouchEnabled  \\\n",
       "0                      NaN                     0.0                      0   \n",
       "1                      NaN                     0.0                      0   \n",
       "2                      NaN                     0.0                      0   \n",
       "3                      NaN                     0.0                      0   \n",
       "4                      0.0                     0.0                      0   \n",
       "\n",
       "   Census_IsPenCapable  Census_IsAlwaysOnAlwaysConnectedCapable  Wdft_IsGamer  \\\n",
       "0                    0                                      0.0           0.0   \n",
       "1                    0                                      0.0           0.0   \n",
       "2                    0                                      0.0           0.0   \n",
       "3                    0                                      0.0           0.0   \n",
       "4                    0                                      0.0           0.0   \n",
       "\n",
       "  Wdft_RegionIdentifier HasDetections  \n",
       "0                  10.0             0  \n",
       "1                   8.0             0  \n",
       "2                   3.0             0  \n",
       "3                   3.0             1  \n",
       "4                   1.0             1  \n",
       "\n",
       "[5 rows x 83 columns]"
      ]
     },
     "execution_count": 4,
     "metadata": {},
     "output_type": "execute_result"
    }
   ],
   "source": [
    "data.head()"
   ]
  },
  {
   "cell_type": "markdown",
   "metadata": {},
   "source": [
    "####  Extracting labels from the data set"
   ]
  },
  {
   "cell_type": "code",
   "execution_count": 81,
   "metadata": {},
   "outputs": [],
   "source": [
    "y_train = data['HasDetections']\n",
    "y_test = data['HasDetections']"
   ]
  },
  {
   "cell_type": "code",
   "execution_count": 82,
   "metadata": {
    "colab": {},
    "colab_type": "code",
    "id": "i71XmDUY8-IJ"
   },
   "outputs": [],
   "source": [
    "data.drop(['MachineIdentifier', 'HasDetections'], inplace=True, axis=1)\n",
    "X_test.drop(['MachineIdentifier', 'HasDetections'], inplace=True, axis=1)"
   ]
  },
  {
   "cell_type": "markdown",
   "metadata": {},
   "source": [
    "Below we can see which feature is numerical and which feature is categorical"
   ]
  },
  {
   "cell_type": "code",
   "execution_count": 36,
   "metadata": {},
   "outputs": [
    {
     "name": "stdout",
     "output_type": "stream",
     "text": [
      "ProductName => Categorical\n",
      "EngineVersion => Categorical\n",
      "AppVersion => Categorical\n",
      "AvSigVersion => Categorical\n",
      "IsBeta Numerical\n",
      "RtpStateBitfield Numerical\n",
      "IsSxsPassiveMode Numerical\n",
      "DefaultBrowsersIdentifier Numerical\n",
      "AVProductStatesIdentifier Numerical\n",
      "AVProductsInstalled Numerical\n",
      "AVProductsEnabled Numerical\n",
      "HasTpm Numerical\n",
      "CountryIdentifier Numerical\n",
      "CityIdentifier Numerical\n",
      "OrganizationIdentifier Numerical\n",
      "GeoNameIdentifier Numerical\n",
      "LocaleEnglishNameIdentifier Numerical\n",
      "Platform => Categorical\n",
      "Processor => Categorical\n",
      "OsVer => Categorical\n",
      "OsBuild Numerical\n",
      "OsSuite Numerical\n",
      "OsPlatformSubRelease => Categorical\n",
      "OsBuildLab => Categorical\n",
      "SkuEdition => Categorical\n",
      "IsProtected Numerical\n",
      "AutoSampleOptIn Numerical\n",
      "PuaMode => Categorical\n",
      "SMode Numerical\n",
      "IeVerIdentifier Numerical\n",
      "SmartScreen => Categorical\n",
      "Firewall Numerical\n",
      "UacLuaenable Numerical\n",
      "Census_MDC2FormFactor => Categorical\n",
      "Census_DeviceFamily => Categorical\n",
      "Census_OEMNameIdentifier Numerical\n",
      "Census_OEMModelIdentifier Numerical\n",
      "Census_ProcessorCoreCount Numerical\n",
      "Census_ProcessorManufacturerIdentifier Numerical\n",
      "Census_ProcessorModelIdentifier Numerical\n",
      "Census_ProcessorClass => Categorical\n",
      "Census_PrimaryDiskTotalCapacity Numerical\n",
      "Census_PrimaryDiskTypeName => Categorical\n",
      "Census_SystemVolumeTotalCapacity Numerical\n",
      "Census_HasOpticalDiskDrive Numerical\n",
      "Census_TotalPhysicalRAM Numerical\n",
      "Census_ChassisTypeName => Categorical\n",
      "Census_InternalPrimaryDiagonalDisplaySizeInInches Numerical\n",
      "Census_InternalPrimaryDisplayResolutionHorizontal Numerical\n",
      "Census_InternalPrimaryDisplayResolutionVertical Numerical\n",
      "Census_PowerPlatformRoleName => Categorical\n",
      "Census_InternalBatteryType => Categorical\n",
      "Census_InternalBatteryNumberOfCharges Numerical\n",
      "Census_OSVersion => Categorical\n",
      "Census_OSArchitecture => Categorical\n",
      "Census_OSBranch => Categorical\n",
      "Census_OSBuildNumber Numerical\n",
      "Census_OSBuildRevision Numerical\n",
      "Census_OSEdition => Categorical\n",
      "Census_OSSkuName => Categorical\n",
      "Census_OSInstallTypeName => Categorical\n",
      "Census_OSInstallLanguageIdentifier Numerical\n",
      "Census_OSUILocaleIdentifier Numerical\n",
      "Census_OSWUAutoUpdateOptionsName => Categorical\n",
      "Census_IsPortableOperatingSystem Numerical\n",
      "Census_GenuineStateName => Categorical\n",
      "Census_ActivationChannel => Categorical\n",
      "Census_IsFlightingInternal Numerical\n",
      "Census_IsFlightsDisabled Numerical\n",
      "Census_FlightRing => Categorical\n",
      "Census_ThresholdOptIn Numerical\n",
      "Census_FirmwareManufacturerIdentifier Numerical\n",
      "Census_FirmwareVersionIdentifier Numerical\n",
      "Census_IsSecureBootEnabled Numerical\n",
      "Census_IsWIMBootEnabled Numerical\n",
      "Census_IsVirtualDevice Numerical\n",
      "Census_IsTouchEnabled Numerical\n",
      "Census_IsPenCapable Numerical\n",
      "Census_IsAlwaysOnAlwaysConnectedCapable Numerical\n",
      "Wdft_IsGamer Numerical\n",
      "Wdft_RegionIdentifier Numerical\n"
     ]
    }
   ],
   "source": [
    "for col in data.columns:\n",
    "    if data[col].dtype=='O':\n",
    "        print(col,\"=> Categorical\")\n",
    "    else:\n",
    "        print(col,\"Numerical\")"
   ]
  },
  {
   "cell_type": "markdown",
   "metadata": {
    "colab_type": "text",
    "id": "xxv_gf5l8-IS"
   },
   "source": [
    "Total Missing data in each column. This information is imprtant since we will now need to perform missing values imputation"
   ]
  },
  {
   "cell_type": "code",
   "execution_count": 30,
   "metadata": {},
   "outputs": [
    {
     "data": {
      "text/html": [
       "<div>\n",
       "<style scoped>\n",
       "    .dataframe tbody tr th:only-of-type {\n",
       "        vertical-align: middle;\n",
       "    }\n",
       "\n",
       "    .dataframe tbody tr th {\n",
       "        vertical-align: top;\n",
       "    }\n",
       "\n",
       "    .dataframe thead th {\n",
       "        text-align: right;\n",
       "    }\n",
       "</style>\n",
       "<table border=\"1\" class=\"dataframe\">\n",
       "  <thead>\n",
       "    <tr style=\"text-align: right;\">\n",
       "      <th></th>\n",
       "      <th>Feature</th>\n",
       "      <th>Number</th>\n",
       "    </tr>\n",
       "  </thead>\n",
       "  <tbody>\n",
       "    <tr>\n",
       "      <th>0</th>\n",
       "      <td>ProductName</td>\n",
       "      <td>0</td>\n",
       "    </tr>\n",
       "    <tr>\n",
       "      <th>1</th>\n",
       "      <td>EngineVersion</td>\n",
       "      <td>0</td>\n",
       "    </tr>\n",
       "    <tr>\n",
       "      <th>2</th>\n",
       "      <td>AppVersion</td>\n",
       "      <td>0</td>\n",
       "    </tr>\n",
       "    <tr>\n",
       "      <th>3</th>\n",
       "      <td>AvSigVersion</td>\n",
       "      <td>0</td>\n",
       "    </tr>\n",
       "    <tr>\n",
       "      <th>4</th>\n",
       "      <td>IsBeta</td>\n",
       "      <td>0</td>\n",
       "    </tr>\n",
       "    <tr>\n",
       "      <th>5</th>\n",
       "      <td>RtpStateBitfield</td>\n",
       "      <td>518</td>\n",
       "    </tr>\n",
       "    <tr>\n",
       "      <th>6</th>\n",
       "      <td>IsSxsPassiveMode</td>\n",
       "      <td>0</td>\n",
       "    </tr>\n",
       "    <tr>\n",
       "      <th>7</th>\n",
       "      <td>DefaultBrowsersIdentifier</td>\n",
       "      <td>128468</td>\n",
       "    </tr>\n",
       "    <tr>\n",
       "      <th>8</th>\n",
       "      <td>AVProductStatesIdentifier</td>\n",
       "      <td>548</td>\n",
       "    </tr>\n",
       "    <tr>\n",
       "      <th>9</th>\n",
       "      <td>AVProductsInstalled</td>\n",
       "      <td>548</td>\n",
       "    </tr>\n",
       "    <tr>\n",
       "      <th>10</th>\n",
       "      <td>AVProductsEnabled</td>\n",
       "      <td>548</td>\n",
       "    </tr>\n",
       "    <tr>\n",
       "      <th>11</th>\n",
       "      <td>HasTpm</td>\n",
       "      <td>0</td>\n",
       "    </tr>\n",
       "    <tr>\n",
       "      <th>12</th>\n",
       "      <td>CountryIdentifier</td>\n",
       "      <td>0</td>\n",
       "    </tr>\n",
       "    <tr>\n",
       "      <th>13</th>\n",
       "      <td>CityIdentifier</td>\n",
       "      <td>4885</td>\n",
       "    </tr>\n",
       "    <tr>\n",
       "      <th>14</th>\n",
       "      <td>OrganizationIdentifier</td>\n",
       "      <td>41409</td>\n",
       "    </tr>\n",
       "    <tr>\n",
       "      <th>15</th>\n",
       "      <td>GeoNameIdentifier</td>\n",
       "      <td>1</td>\n",
       "    </tr>\n",
       "    <tr>\n",
       "      <th>16</th>\n",
       "      <td>LocaleEnglishNameIdentifier</td>\n",
       "      <td>0</td>\n",
       "    </tr>\n",
       "    <tr>\n",
       "      <th>17</th>\n",
       "      <td>Platform</td>\n",
       "      <td>0</td>\n",
       "    </tr>\n",
       "    <tr>\n",
       "      <th>18</th>\n",
       "      <td>Processor</td>\n",
       "      <td>0</td>\n",
       "    </tr>\n",
       "    <tr>\n",
       "      <th>19</th>\n",
       "      <td>OsVer</td>\n",
       "      <td>0</td>\n",
       "    </tr>\n",
       "    <tr>\n",
       "      <th>20</th>\n",
       "      <td>OsBuild</td>\n",
       "      <td>0</td>\n",
       "    </tr>\n",
       "    <tr>\n",
       "      <th>21</th>\n",
       "      <td>OsSuite</td>\n",
       "      <td>0</td>\n",
       "    </tr>\n",
       "    <tr>\n",
       "      <th>22</th>\n",
       "      <td>OsPlatformSubRelease</td>\n",
       "      <td>0</td>\n",
       "    </tr>\n",
       "    <tr>\n",
       "      <th>23</th>\n",
       "      <td>OsBuildLab</td>\n",
       "      <td>1</td>\n",
       "    </tr>\n",
       "    <tr>\n",
       "      <th>24</th>\n",
       "      <td>SkuEdition</td>\n",
       "      <td>0</td>\n",
       "    </tr>\n",
       "    <tr>\n",
       "      <th>25</th>\n",
       "      <td>IsProtected</td>\n",
       "      <td>544</td>\n",
       "    </tr>\n",
       "    <tr>\n",
       "      <th>26</th>\n",
       "      <td>AutoSampleOptIn</td>\n",
       "      <td>0</td>\n",
       "    </tr>\n",
       "    <tr>\n",
       "      <th>27</th>\n",
       "      <td>PuaMode</td>\n",
       "      <td>134966</td>\n",
       "    </tr>\n",
       "    <tr>\n",
       "      <th>28</th>\n",
       "      <td>SMode</td>\n",
       "      <td>8005</td>\n",
       "    </tr>\n",
       "    <tr>\n",
       "      <th>29</th>\n",
       "      <td>IeVerIdentifier</td>\n",
       "      <td>918</td>\n",
       "    </tr>\n",
       "    <tr>\n",
       "      <th>...</th>\n",
       "      <td>...</td>\n",
       "      <td>...</td>\n",
       "    </tr>\n",
       "    <tr>\n",
       "      <th>51</th>\n",
       "      <td>Census_InternalBatteryType</td>\n",
       "      <td>96000</td>\n",
       "    </tr>\n",
       "    <tr>\n",
       "      <th>52</th>\n",
       "      <td>Census_InternalBatteryNumberOfCharges</td>\n",
       "      <td>4063</td>\n",
       "    </tr>\n",
       "    <tr>\n",
       "      <th>53</th>\n",
       "      <td>Census_OSVersion</td>\n",
       "      <td>0</td>\n",
       "    </tr>\n",
       "    <tr>\n",
       "      <th>54</th>\n",
       "      <td>Census_OSArchitecture</td>\n",
       "      <td>0</td>\n",
       "    </tr>\n",
       "    <tr>\n",
       "      <th>55</th>\n",
       "      <td>Census_OSBranch</td>\n",
       "      <td>0</td>\n",
       "    </tr>\n",
       "    <tr>\n",
       "      <th>56</th>\n",
       "      <td>Census_OSBuildNumber</td>\n",
       "      <td>0</td>\n",
       "    </tr>\n",
       "    <tr>\n",
       "      <th>57</th>\n",
       "      <td>Census_OSBuildRevision</td>\n",
       "      <td>0</td>\n",
       "    </tr>\n",
       "    <tr>\n",
       "      <th>58</th>\n",
       "      <td>Census_OSEdition</td>\n",
       "      <td>0</td>\n",
       "    </tr>\n",
       "    <tr>\n",
       "      <th>59</th>\n",
       "      <td>Census_OSSkuName</td>\n",
       "      <td>0</td>\n",
       "    </tr>\n",
       "    <tr>\n",
       "      <th>60</th>\n",
       "      <td>Census_OSInstallTypeName</td>\n",
       "      <td>0</td>\n",
       "    </tr>\n",
       "    <tr>\n",
       "      <th>61</th>\n",
       "      <td>Census_OSInstallLanguageIdentifier</td>\n",
       "      <td>915</td>\n",
       "    </tr>\n",
       "    <tr>\n",
       "      <th>62</th>\n",
       "      <td>Census_OSUILocaleIdentifier</td>\n",
       "      <td>0</td>\n",
       "    </tr>\n",
       "    <tr>\n",
       "      <th>63</th>\n",
       "      <td>Census_OSWUAutoUpdateOptionsName</td>\n",
       "      <td>0</td>\n",
       "    </tr>\n",
       "    <tr>\n",
       "      <th>64</th>\n",
       "      <td>Census_IsPortableOperatingSystem</td>\n",
       "      <td>0</td>\n",
       "    </tr>\n",
       "    <tr>\n",
       "      <th>65</th>\n",
       "      <td>Census_GenuineStateName</td>\n",
       "      <td>0</td>\n",
       "    </tr>\n",
       "    <tr>\n",
       "      <th>66</th>\n",
       "      <td>Census_ActivationChannel</td>\n",
       "      <td>0</td>\n",
       "    </tr>\n",
       "    <tr>\n",
       "      <th>67</th>\n",
       "      <td>Census_IsFlightingInternal</td>\n",
       "      <td>112118</td>\n",
       "    </tr>\n",
       "    <tr>\n",
       "      <th>68</th>\n",
       "      <td>Census_IsFlightsDisabled</td>\n",
       "      <td>2397</td>\n",
       "    </tr>\n",
       "    <tr>\n",
       "      <th>69</th>\n",
       "      <td>Census_FlightRing</td>\n",
       "      <td>0</td>\n",
       "    </tr>\n",
       "    <tr>\n",
       "      <th>70</th>\n",
       "      <td>Census_ThresholdOptIn</td>\n",
       "      <td>85798</td>\n",
       "    </tr>\n",
       "    <tr>\n",
       "      <th>71</th>\n",
       "      <td>Census_FirmwareManufacturerIdentifier</td>\n",
       "      <td>2735</td>\n",
       "    </tr>\n",
       "    <tr>\n",
       "      <th>72</th>\n",
       "      <td>Census_FirmwareVersionIdentifier</td>\n",
       "      <td>2396</td>\n",
       "    </tr>\n",
       "    <tr>\n",
       "      <th>73</th>\n",
       "      <td>Census_IsSecureBootEnabled</td>\n",
       "      <td>0</td>\n",
       "    </tr>\n",
       "    <tr>\n",
       "      <th>74</th>\n",
       "      <td>Census_IsWIMBootEnabled</td>\n",
       "      <td>85684</td>\n",
       "    </tr>\n",
       "    <tr>\n",
       "      <th>75</th>\n",
       "      <td>Census_IsVirtualDevice</td>\n",
       "      <td>240</td>\n",
       "    </tr>\n",
       "    <tr>\n",
       "      <th>76</th>\n",
       "      <td>Census_IsTouchEnabled</td>\n",
       "      <td>0</td>\n",
       "    </tr>\n",
       "    <tr>\n",
       "      <th>77</th>\n",
       "      <td>Census_IsPenCapable</td>\n",
       "      <td>0</td>\n",
       "    </tr>\n",
       "    <tr>\n",
       "      <th>78</th>\n",
       "      <td>Census_IsAlwaysOnAlwaysConnectedCapable</td>\n",
       "      <td>1102</td>\n",
       "    </tr>\n",
       "    <tr>\n",
       "      <th>79</th>\n",
       "      <td>Wdft_IsGamer</td>\n",
       "      <td>4532</td>\n",
       "    </tr>\n",
       "    <tr>\n",
       "      <th>80</th>\n",
       "      <td>Wdft_RegionIdentifier</td>\n",
       "      <td>4532</td>\n",
       "    </tr>\n",
       "  </tbody>\n",
       "</table>\n",
       "<p>81 rows × 2 columns</p>\n",
       "</div>"
      ],
      "text/plain": [
       "                                    Feature  Number\n",
       "0                               ProductName       0\n",
       "1                             EngineVersion       0\n",
       "2                                AppVersion       0\n",
       "3                              AvSigVersion       0\n",
       "4                                    IsBeta       0\n",
       "5                          RtpStateBitfield     518\n",
       "6                          IsSxsPassiveMode       0\n",
       "7                 DefaultBrowsersIdentifier  128468\n",
       "8                 AVProductStatesIdentifier     548\n",
       "9                       AVProductsInstalled     548\n",
       "10                        AVProductsEnabled     548\n",
       "11                                   HasTpm       0\n",
       "12                        CountryIdentifier       0\n",
       "13                           CityIdentifier    4885\n",
       "14                   OrganizationIdentifier   41409\n",
       "15                        GeoNameIdentifier       1\n",
       "16              LocaleEnglishNameIdentifier       0\n",
       "17                                 Platform       0\n",
       "18                                Processor       0\n",
       "19                                    OsVer       0\n",
       "20                                  OsBuild       0\n",
       "21                                  OsSuite       0\n",
       "22                     OsPlatformSubRelease       0\n",
       "23                               OsBuildLab       1\n",
       "24                               SkuEdition       0\n",
       "25                              IsProtected     544\n",
       "26                          AutoSampleOptIn       0\n",
       "27                                  PuaMode  134966\n",
       "28                                    SMode    8005\n",
       "29                          IeVerIdentifier     918\n",
       "..                                      ...     ...\n",
       "51               Census_InternalBatteryType   96000\n",
       "52    Census_InternalBatteryNumberOfCharges    4063\n",
       "53                         Census_OSVersion       0\n",
       "54                    Census_OSArchitecture       0\n",
       "55                          Census_OSBranch       0\n",
       "56                     Census_OSBuildNumber       0\n",
       "57                   Census_OSBuildRevision       0\n",
       "58                         Census_OSEdition       0\n",
       "59                         Census_OSSkuName       0\n",
       "60                 Census_OSInstallTypeName       0\n",
       "61       Census_OSInstallLanguageIdentifier     915\n",
       "62              Census_OSUILocaleIdentifier       0\n",
       "63         Census_OSWUAutoUpdateOptionsName       0\n",
       "64         Census_IsPortableOperatingSystem       0\n",
       "65                  Census_GenuineStateName       0\n",
       "66                 Census_ActivationChannel       0\n",
       "67               Census_IsFlightingInternal  112118\n",
       "68                 Census_IsFlightsDisabled    2397\n",
       "69                        Census_FlightRing       0\n",
       "70                    Census_ThresholdOptIn   85798\n",
       "71    Census_FirmwareManufacturerIdentifier    2735\n",
       "72         Census_FirmwareVersionIdentifier    2396\n",
       "73               Census_IsSecureBootEnabled       0\n",
       "74                  Census_IsWIMBootEnabled   85684\n",
       "75                   Census_IsVirtualDevice     240\n",
       "76                    Census_IsTouchEnabled       0\n",
       "77                      Census_IsPenCapable       0\n",
       "78  Census_IsAlwaysOnAlwaysConnectedCapable    1102\n",
       "79                             Wdft_IsGamer    4532\n",
       "80                    Wdft_RegionIdentifier    4532\n",
       "\n",
       "[81 rows x 2 columns]"
      ]
     },
     "execution_count": 30,
     "metadata": {},
     "output_type": "execute_result"
    }
   ],
   "source": [
    "missing=pd.DataFrame(columns=['Feature','Number'])\n",
    "values=np.array(data.isnull().sum())\n",
    "missing['Feature'] = np.array(data.columns)\n",
    "missing['Number'] = values\n",
    "missing"
   ]
  },
  {
   "cell_type": "markdown",
   "metadata": {},
   "source": [
    "#  Feature Engineering"
   ]
  },
  {
   "cell_type": "markdown",
   "metadata": {},
   "source": [
    "#### Change all SmartScreen values in lower case"
   ]
  },
  {
   "cell_type": "code",
   "execution_count": 84,
   "metadata": {
    "colab": {},
    "colab_type": "code",
    "id": "gFeMXdaw8-Jm"
   },
   "outputs": [],
   "source": [
    "data['SmartScreen']=data['SmartScreen'].str.lower()\n",
    "X_test['SmartScreen']=X_test['SmartScreen'].str.lower()"
   ]
  },
  {
   "cell_type": "markdown",
   "metadata": {},
   "source": [
    "#### Group features based on battery type"
   ]
  },
  {
   "cell_type": "code",
   "execution_count": 85,
   "metadata": {
    "colab": {},
    "colab_type": "code",
    "id": "ZnfFgUCv8-Ju"
   },
   "outputs": [],
   "source": [
    "arr=data['Census_InternalBatteryType'].str.contains('li').values\n",
    "b = np.zeros(arr.shape[0])\n",
    "b[arr==True]=1\n",
    "data['li'] = pd.DataFrame(b)\n",
    "data.drop('Census_InternalBatteryType',inplace=True,axis=1)\n",
    "\n",
    "arr=X_test['Census_InternalBatteryType'].str.contains('li').values\n",
    "b = np.zeros(arr.shape[0])\n",
    "b[arr==True]=1\n",
    "X_test['li'] = pd.DataFrame(b)\n",
    "X_test.drop('Census_InternalBatteryType',inplace=True,axis=1)"
   ]
  },
  {
   "cell_type": "code",
   "execution_count": 40,
   "metadata": {},
   "outputs": [
    {
     "data": {
      "text/plain": [
       "<matplotlib.axes._subplots.AxesSubplot at 0x27c82ce1208>"
      ]
     },
     "execution_count": 40,
     "metadata": {},
     "output_type": "execute_result"
    },
    {
     "data": {
      "image/png": "[encoded data removed]",
      "text/plain": [
       "<Figure size 432x288 with 1 Axes>"
      ]
     },
     "metadata": {
      "needs_background": "light"
     },
     "output_type": "display_data"
    }
   ],
   "source": [
    "sns.countplot(data['li'],hue=y_train)"
   ]
  },
  {
   "cell_type": "markdown",
   "metadata": {},
   "source": [
    "###### Observation\n",
    "From the above bar graph we can see that whether the battery is lithium or not lithium, we have almost equal chance of getting a malware or not. Therefore we can safely say that this feature will not be as important to classify. This will come in handy when we calculate feature importance later on "
   ]
  },
  {
   "cell_type": "markdown",
   "metadata": {},
   "source": [
    "#### Replace missing values indicated as -1 with NaN"
   ]
  },
  {
   "cell_type": "code",
   "execution_count": 86,
   "metadata": {
    "colab": {},
    "colab_type": "code",
    "id": "EIsQ8KHU8-J0"
   },
   "outputs": [],
   "source": [
    "data['Census_InternalPrimaryDisplayResolutionVertical'].replace({-1:np.nan},inplace=True)\n",
    "data['Census_InternalPrimaryDisplayResolutionHorizontal'].replace({-1:np.nan},inplace=True)\n",
    "X_test['Census_InternalPrimaryDisplayResolutionVertical'].replace({-1:np.nan},inplace=True)\n",
    "X_test['Census_InternalPrimaryDisplayResolutionHorizontal'].replace({-1:np.nan},inplace=True)"
   ]
  },
  {
   "cell_type": "markdown",
   "metadata": {},
   "source": [
    "#### Feature Creation"
   ]
  },
  {
   "cell_type": "code",
   "execution_count": 87,
   "metadata": {
    "colab": {},
    "colab_type": "code",
    "id": "s0hZkwtU8-KK"
   },
   "outputs": [],
   "source": [
    "# total disk capacity remaining\n",
    "data['disk_remain'] = data['Census_PrimaryDiskTotalCapacity'] - data['Census_SystemVolumeTotalCapacity']\n",
    "data['disk_remain'] = data['disk_remain'].astype('float32')\n",
    "\n",
    "# Ram-to-CPU ratio\n",
    "data['ram_cpu_ratio'] = data['Census_TotalPhysicalRAM'] / data['Census_ProcessorCoreCount']\n",
    "\n",
    "# Pixel Per Inch PPI sqrt(horizonal**2 + vertical**2) / diagonal\n",
    "data['ppi'] = np.sqrt(data['Census_InternalPrimaryDisplayResolutionHorizontal']**2 + data['Census_InternalPrimaryDisplayResolutionVertical']**2) / data['Census_InternalPrimaryDiagonalDisplaySizeInInches']\n",
    "\n",
    "# PPI squared\n",
    "data['ppi2'] = data.ppi ** 2\n",
    "\n",
    "# Screen aspect ratio = Horizonal / Vertical\n",
    "data['aspect_ratio'] = data['Census_InternalPrimaryDisplayResolutionHorizontal'] / data['Census_InternalPrimaryDisplayResolutionVertical']\n",
    "\n",
    "# Pixel count = Horizonal * Vertical\n",
    "data['pixel_count'] = data['Census_InternalPrimaryDisplayResolutionHorizontal'] * data['Census_InternalPrimaryDisplayResolutionVertical']\n",
    "\n",
    "data.drop(['Census_PrimaryDiskTotalCapacity','Census_SystemVolumeTotalCapacity','Census_TotalPhysicalRAM','Census_ProcessorCoreCount','Census_InternalPrimaryDisplayResolutionHorizontal','Census_InternalPrimaryDisplayResolutionVertical','Census_InternalPrimaryDiagonalDisplaySizeInInches'],inplace=True,axis=1)"
   ]
  },
  {
   "cell_type": "code",
   "execution_count": 88,
   "metadata": {},
   "outputs": [],
   "source": [
    "# total disk capacity remaining\n",
    "X_test['disk_remain'] = X_test['Census_PrimaryDiskTotalCapacity'] - X_test['Census_SystemVolumeTotalCapacity']\n",
    "X_test['disk_remain'] = X_test['disk_remain'].astype('float32')\n",
    "\n",
    "# Ram-to-CPU ratio\n",
    "X_test['ram_cpu_ratio'] = X_test['Census_TotalPhysicalRAM'] / X_test['Census_ProcessorCoreCount']\n",
    "\n",
    "# Pixel Per Inch PPI sqrt(horizonal**2 + vertical**2) / diagonal\n",
    "X_test['ppi'] = np.sqrt(X_test['Census_InternalPrimaryDisplayResolutionHorizontal']**2 + X_test['Census_InternalPrimaryDisplayResolutionVertical']**2) / X_test['Census_InternalPrimaryDiagonalDisplaySizeInInches']\n",
    "\n",
    "# PPI squared\n",
    "X_test['ppi2'] = X_test.ppi ** 2\n",
    "\n",
    "# Screen aspect ratio = Horizonal / Vertical\n",
    "X_test['aspect_ratio'] = X_test['Census_InternalPrimaryDisplayResolutionHorizontal'] / X_test['Census_InternalPrimaryDisplayResolutionVertical']\n",
    "\n",
    "# Pixel count = Horizonal * Vertical\n",
    "X_test['pixel_count'] = X_test['Census_InternalPrimaryDisplayResolutionHorizontal'] * X_test['Census_InternalPrimaryDisplayResolutionVertical']\n",
    "X_test.drop(['Census_PrimaryDiskTotalCapacity','Census_SystemVolumeTotalCapacity','Census_TotalPhysicalRAM','Census_ProcessorCoreCount','Census_InternalPrimaryDisplayResolutionHorizontal','Census_InternalPrimaryDisplayResolutionVertical','Census_InternalPrimaryDiagonalDisplaySizeInInches'],inplace=True,axis=1)"
   ]
  },
  {
   "cell_type": "markdown",
   "metadata": {},
   "source": [
    "##### Dropping features in test and train whose nan values are greater than 60% since they will not be helpful"
   ]
  },
  {
   "cell_type": "code",
   "execution_count": 89,
   "metadata": {
    "colab": {
     "base_uri": "https://localhost:8080/",
     "height": 127
    },
    "colab_type": "code",
    "id": "1kK_152y8-Kq",
    "outputId": "1ed3ce5c-63c5-48d6-b519-301b29a71359"
   },
   "outputs": [
    {
     "name": "stdout",
     "output_type": "stream",
     "text": [
      "DefaultBrowsersIdentifierpercent : 85.64533333333333\n",
      "PuaModepercent : 89.97733333333333\n",
      "Census_ProcessorClasspercent : 89.60733333333334\n",
      "Census_IsFlightingInternalpercent : 74.74533333333333\n"
     ]
    }
   ],
   "source": [
    "for col in data.columns:\n",
    "    if (100*(data[col].isnull().sum()/150000))>60:\n",
    "        print(col + \"percent : \" + str(100*(data[col].isnull().sum()/150000)))\n",
    "        data.drop(col,inplace=True,axis=1)\n",
    "        X_test.drop(col,inplace=True,axis=1)\n",
    "        \n"
   ]
  },
  {
   "cell_type": "markdown",
   "metadata": {},
   "source": [
    "## Imputing missing values in the data using mode for categorical variables and median for numerical variables"
   ]
  },
  {
   "cell_type": "code",
   "execution_count": 90,
   "metadata": {
    "colab": {},
    "colab_type": "code",
    "id": "LV14GkhY8-K0"
   },
   "outputs": [],
   "source": [
    "imputer = SimpleImputer(strategy='median')\n",
    "for col in data.columns:\n",
    "    if (data[col].isnull().sum())>0:\n",
    "        if data[col].dtype=='O':\n",
    "            mode=data[col].mode()[0]\n",
    "            data[col].fillna(mode,inplace=True)\n",
    "            X_test[col].fillna(mode,inplace=True)\n",
    "            data[col]=data[col].str.lower()\n",
    "            data[col].replace({\"unknown\":mode},inplace=True)\n",
    "            X_test[col].replace({\"unknown\":mode},inplace=True)\n",
    "        else:\n",
    "            data[col] = imputer.fit_transform(data[col].values.reshape(-1,1))\n",
    "            X_test[col] = imputer.transform(X_test[col].values.reshape(-1,1))\n",
    "\n",
    "\n",
    "\n",
    "        "
   ]
  },
  {
   "cell_type": "code",
   "execution_count": 91,
   "metadata": {},
   "outputs": [],
   "source": [
    "data['Census_ChassisTypeName'].fillna(data['Census_ChassisTypeName'].mode()[0],inplace=True)\n",
    "X_test['Census_ChassisTypeName'].fillna(data['Census_ChassisTypeName'].mode()[0],inplace=True)"
   ]
  },
  {
   "cell_type": "markdown",
   "metadata": {},
   "source": [
    "We will store the categorical features and numerical features. This will come in handy during feature scaling and for LGBM Classifier"
   ]
  },
  {
   "cell_type": "code",
   "execution_count": 8,
   "metadata": {
    "colab": {},
    "colab_type": "code",
    "id": "MNQi2dnEJtb-"
   },
   "outputs": [],
   "source": [
    "categorical = [\n",
    "'ProductName', 'Platform', 'Processor', 'OsVer', 'OsPlatformSubRelease', \n",
    "'OsBuildLab', 'SkuEdition', 'SmartScreen', 'Census_MDC2FormFactor', \n",
    "'Census_DeviceFamily', 'Census_PrimaryDiskTypeName', \n",
    "'Census_ChassisTypeName', 'Census_PowerPlatformRoleName', \n",
    "'Census_OSArchitecture', 'Census_OSBranch', 'Census_OSEdition', 'Census_OSSkuName', \n",
    "'Census_OSInstallTypeName', 'Census_OSWUAutoUpdateOptionsName', 'Census_GenuineStateName', \n",
    "'Census_ActivationChannel', 'Census_FlightRing', \n",
    "'AvSigVersion', 'AppVersion', 'EngineVersion', 'Census_OSVersion' \n",
    "]\n",
    "numerical = list(set(data.columns) - set(categorical))"
   ]
  },
  {
   "cell_type": "code",
   "execution_count": 166,
   "metadata": {},
   "outputs": [],
   "source": [
    "pickle.dump(data,open(\"data_lgb.p\",\"wb\"))\n",
    "pickle.dump(X_test,open(\"y_lgb.p\",\"wb\"))"
   ]
  },
  {
   "cell_type": "markdown",
   "metadata": {},
   "source": [
    "## One Hot Encoding the data."
   ]
  },
  {
   "cell_type": "code",
   "execution_count": 93,
   "metadata": {
    "colab": {},
    "colab_type": "code",
    "id": "KAZyY7e_8-K8"
   },
   "outputs": [],
   "source": [
    "train=pd.get_dummies(data,columns=categorical,sparse=True)\n",
    "test=pd.get_dummies(X_test,columns=categorical,sparse=True)"
   ]
  },
  {
   "cell_type": "markdown",
   "metadata": {},
   "source": [
    "### Since it is possible for test data to have values which are not present in training data for some categorical feature, we will add a column for every such variable and make it 0 for test"
   ]
  },
  {
   "cell_type": "code",
   "execution_count": 94,
   "metadata": {},
   "outputs": [],
   "source": [
    "missing_cols = set( train.columns ) - set( test.columns )\n",
    "i=0\n",
    "for c in missing_cols:\n",
    "    test[c] = 0\n",
    "test = test[train.columns]"
   ]
  },
  {
   "cell_type": "markdown",
   "metadata": {},
   "source": [
    "# Random Forest"
   ]
  },
  {
   "cell_type": "code",
   "execution_count": 34,
   "metadata": {
    "colab": {},
    "colab_type": "code",
    "id": "Ziy-NSPaN8MQ"
   },
   "outputs": [],
   "source": [
    "from sklearn.ensemble import RandomForestClassifier\n",
    "from sklearn.model_selection import GridSearchCV\n",
    "from sklearn.metrics import accuracy_score, make_scorer"
   ]
  },
  {
   "cell_type": "markdown",
   "metadata": {},
   "source": [
    "Defining the range for which we will test our hyper parameters"
   ]
  },
  {
   "cell_type": "code",
   "execution_count": 62,
   "metadata": {},
   "outputs": [],
   "source": [
    "max_depth = np.arange(10,150,10)\n",
    "min_samples_leaf=np.arange(10,100,10)\n",
    "n_estimators = np.arange(10,100,10)\n",
    "param_grid = {'max_depth':max_depth,'min_samples_leaf':min_samples_leaf,'n_estimators':n_estimators}"
   ]
  },
  {
   "cell_type": "markdown",
   "metadata": {},
   "source": [
    "The range is large and this might take a lot of time to test out hyperparameters. So we will try to reduce the search space for the hyperparameters by individually conducting a validation testing and picking up a range for which we see the least error. This will narrow our search space"
   ]
  },
  {
   "cell_type": "code",
   "execution_count": 63,
   "metadata": {},
   "outputs": [],
   "source": [
    "x_train, x_val, y_train_1, y_val = train_test_split(train, y_train, test_size=0.25, random_state=42)"
   ]
  },
  {
   "cell_type": "code",
   "execution_count": 64,
   "metadata": {},
   "outputs": [
    {
     "data": {
      "text/plain": [
       "[<matplotlib.lines.Line2D at 0x27c8ed2f828>]"
      ]
     },
     "execution_count": 64,
     "metadata": {},
     "output_type": "execute_result"
    },
    {
     "data": {
      "image/png": "[encoded data removed]",
      "text/plain": [
       "<Figure size 432x288 with 1 Axes>"
      ]
     },
     "metadata": {
      "needs_background": "light"
     },
     "output_type": "display_data"
    }
   ],
   "source": [
    "e=[]\n",
    "for depth in max_depth:\n",
    "    forest = RandomForestClassifier(max_depth=depth)\n",
    "    forest.fit(x_train,y_train_1)\n",
    "    yhat=forest.predict(x_val)\n",
    "    e.append(np.mean(yhat!=y_val))\n",
    "plt.plot(max_depth,e)"
   ]
  },
  {
   "cell_type": "markdown",
   "metadata": {},
   "source": [
    "From the plot above it is safe to assume that the least error is obtained for a max_depth between 10 and 40"
   ]
  },
  {
   "cell_type": "code",
   "execution_count": 65,
   "metadata": {},
   "outputs": [],
   "source": [
    "e=[]\n",
    "for leaf in min_samples_leaf:\n",
    "    forest = RandomForestClassifier(min_samples_leaf=leaf)\n",
    "    forest.fit(x_train,y_train_1)\n",
    "    yhat=forest.predict(x_val)\n",
    "    e.append(np.mean(yhat!=y_val))"
   ]
  },
  {
   "cell_type": "code",
   "execution_count": 66,
   "metadata": {},
   "outputs": [
    {
     "data": {
      "text/plain": [
       "[<matplotlib.lines.Line2D at 0x27c90780898>]"
      ]
     },
     "execution_count": 66,
     "metadata": {},
     "output_type": "execute_result"
    },
    {
     "data": {
      "image/png": "[encoded data removed]",
      "text/plain": [
       "<Figure size 432x288 with 1 Axes>"
      ]
     },
     "metadata": {
      "needs_background": "light"
     },
     "output_type": "display_data"
    }
   ],
   "source": [
    "plt.plot(min_samples_leaf,e)"
   ]
  },
  {
   "cell_type": "markdown",
   "metadata": {},
   "source": [
    "From the plot above it is safe to assume that the least error is obtained for a min_samples between 30 and 50"
   ]
  },
  {
   "cell_type": "code",
   "execution_count": 67,
   "metadata": {},
   "outputs": [
    {
     "data": {
      "text/plain": [
       "[<matplotlib.lines.Line2D at 0x27c90749278>]"
      ]
     },
     "execution_count": 67,
     "metadata": {},
     "output_type": "execute_result"
    },
    {
     "data": {
      "image/png": "[encoded data removed]",
      "text/plain": [
       "<Figure size 432x288 with 1 Axes>"
      ]
     },
     "metadata": {
      "needs_background": "light"
     },
     "output_type": "display_data"
    }
   ],
   "source": [
    "e=[]\n",
    "for est in n_estimators:\n",
    "    forest = RandomForestClassifier(n_estimators=est)\n",
    "    forest.fit(x_train,y_train_1)\n",
    "    yhat=forest.predict(x_val)\n",
    "    e.append(np.mean(yhat!=y_val))\n",
    "plt.plot(n_estimators,e)"
   ]
  },
  {
   "cell_type": "markdown",
   "metadata": {},
   "source": [
    "From the plot above it is safe to assume that the least error is obtained for a n_estimators=90"
   ]
  },
  {
   "cell_type": "markdown",
   "metadata": {},
   "source": [
    "#### Reducing the search space from above made observations so as to reduce the running time"
   ]
  },
  {
   "cell_type": "code",
   "execution_count": 96,
   "metadata": {},
   "outputs": [],
   "source": [
    "max_depth = np.arange(10,40,10)\n",
    "min_samples_leaf=np.array([30,50,70])\n",
    "param_grid = {'max_depth':max_depth,'min_samples_leaf':min_samples_leaf}"
   ]
  },
  {
   "cell_type": "markdown",
   "metadata": {},
   "source": [
    "##### Conducting hyper parameter tuning and validation testing with K-Fold method using GridSearchCV"
   ]
  },
  {
   "cell_type": "code",
   "execution_count": 70,
   "metadata": {},
   "outputs": [],
   "source": [
    "forest = RandomForestClassifier(n_estimators=90)\n",
    "cvf = GridSearchCV(forest,param_grid,return_train_score=True,refit=True,cv=5,scoring = make_scorer(accuracy_score,greater_is_better=True))"
   ]
  },
  {
   "cell_type": "code",
   "execution_count": 71,
   "metadata": {},
   "outputs": [
    {
     "data": {
      "text/plain": [
       "GridSearchCV(cv=5, error_score='raise-deprecating',\n",
       "             estimator=RandomForestClassifier(bootstrap=True, class_weight=None,\n",
       "                                              criterion='gini', max_depth=None,\n",
       "                                              max_features='auto',\n",
       "                                              max_leaf_nodes=None,\n",
       "                                              min_impurity_decrease=0.0,\n",
       "                                              min_impurity_split=None,\n",
       "                                              min_samples_leaf=1,\n",
       "                                              min_samples_split=2,\n",
       "                                              min_weight_fraction_leaf=0.0,\n",
       "                                              n_estimators=90, n_jobs=None,\n",
       "                                              oob_score=False,\n",
       "                                              random_state=None, verbose=0,\n",
       "                                              warm_start=False),\n",
       "             iid='warn', n_jobs=None,\n",
       "             param_grid={'max_depth': array([10, 20, 30]),\n",
       "                         'min_samples_leaf': array([30, 50, 70])},\n",
       "             pre_dispatch='2*n_jobs', refit=True, return_train_score=True,\n",
       "             scoring=make_scorer(accuracy_score), verbose=0)"
      ]
     },
     "execution_count": 71,
     "metadata": {},
     "output_type": "execute_result"
    }
   ],
   "source": [
    "cvf.fit(train,y_train)"
   ]
  },
  {
   "cell_type": "code",
   "execution_count": 97,
   "metadata": {},
   "outputs": [],
   "source": [
    "depth=cvf.best_params_['max_depth']\n",
    "leaves = cvf.best_params_['min_samples_leaf']"
   ]
  },
  {
   "cell_type": "markdown",
   "metadata": {},
   "source": [
    "##### Training our model"
   ]
  },
  {
   "cell_type": "code",
   "execution_count": 98,
   "metadata": {},
   "outputs": [
    {
     "data": {
      "text/plain": [
       "RandomForestClassifier(bootstrap=True, class_weight=None, criterion='gini',\n",
       "                       max_depth=20, max_features='auto', max_leaf_nodes=None,\n",
       "                       min_impurity_decrease=0.0, min_impurity_split=None,\n",
       "                       min_samples_leaf=30, min_samples_split=2,\n",
       "                       min_weight_fraction_leaf=0.0, n_estimators=90,\n",
       "                       n_jobs=None, oob_score=False, random_state=None,\n",
       "                       verbose=0, warm_start=False)"
      ]
     },
     "execution_count": 98,
     "metadata": {},
     "output_type": "execute_result"
    }
   ],
   "source": [
    "forest = RandomForestClassifier(max_depth=depth,min_samples_leaf=leaves,n_estimators=90)\n",
    "forest.fit(train,y_train)"
   ]
  },
  {
   "cell_type": "code",
   "execution_count": 99,
   "metadata": {},
   "outputs": [
    {
     "name": "stdout",
     "output_type": "stream",
     "text": [
      "Test error is 0.3698666666666667\n"
     ]
    }
   ],
   "source": [
    "y_pred = forest.predict(test)\n",
    "print(\"Test error is \" + str(np.mean(y_pred!=y_test)))"
   ]
  },
  {
   "cell_type": "markdown",
   "metadata": {},
   "source": [
    "### Test error comes out to be 36.9%"
   ]
  },
  {
   "cell_type": "markdown",
   "metadata": {},
   "source": [
    "# SVM"
   ]
  },
  {
   "cell_type": "markdown",
   "metadata": {},
   "source": [
    "Performing feature scaling on the data for normalization. Feature scaling performed using MinMaxScaler. This scaling was performed on both test and train data"
   ]
  },
  {
   "cell_type": "code",
   "execution_count": 103,
   "metadata": {
    "colab": {},
    "colab_type": "code",
    "id": "Q7glS5NR6t-d"
   },
   "outputs": [],
   "source": [
    "from sklearn.preprocessing import MinMaxScaler\n",
    "scaler = MinMaxScaler(copy=True)\n",
    "for col in numerical:\n",
    "    train[col] = scaler.fit_transform(np.array(train[col]).reshape(-1,1))\n",
    "    test[col] = scaler.transform(np.array(test[col]).reshape(-1,1))"
   ]
  },
  {
   "cell_type": "markdown",
   "metadata": {},
   "source": [
    "##### Conducting hyper parameter tuning and validation testing with K-Fold method using GridSearchCV"
   ]
  },
  {
   "cell_type": "code",
   "execution_count": 105,
   "metadata": {},
   "outputs": [],
   "source": [
    "c = np.arange(1,11,1)\n",
    "param_grid = {'C':c}"
   ]
  },
  {
   "cell_type": "code",
   "execution_count": 107,
   "metadata": {},
   "outputs": [
    {
     "name": "stderr",
     "output_type": "stream",
     "text": [
      "C:\\Users\\shive\\Anaconda3\\lib\\site-packages\\sklearn\\svm\\base.py:929: ConvergenceWarning: Liblinear failed to converge, increase the number of iterations.\n",
      "  \"the number of iterations.\", ConvergenceWarning)\n",
      "C:\\Users\\shive\\Anaconda3\\lib\\site-packages\\sklearn\\svm\\base.py:929: ConvergenceWarning: Liblinear failed to converge, increase the number of iterations.\n",
      "  \"the number of iterations.\", ConvergenceWarning)\n",
      "C:\\Users\\shive\\Anaconda3\\lib\\site-packages\\sklearn\\svm\\base.py:929: ConvergenceWarning: Liblinear failed to converge, increase the number of iterations.\n",
      "  \"the number of iterations.\", ConvergenceWarning)\n",
      "C:\\Users\\shive\\Anaconda3\\lib\\site-packages\\sklearn\\svm\\base.py:929: ConvergenceWarning: Liblinear failed to converge, increase the number of iterations.\n",
      "  \"the number of iterations.\", ConvergenceWarning)\n",
      "C:\\Users\\shive\\Anaconda3\\lib\\site-packages\\sklearn\\svm\\base.py:929: ConvergenceWarning: Liblinear failed to converge, increase the number of iterations.\n",
      "  \"the number of iterations.\", ConvergenceWarning)\n",
      "C:\\Users\\shive\\Anaconda3\\lib\\site-packages\\sklearn\\svm\\base.py:929: ConvergenceWarning: Liblinear failed to converge, increase the number of iterations.\n",
      "  \"the number of iterations.\", ConvergenceWarning)\n",
      "C:\\Users\\shive\\Anaconda3\\lib\\site-packages\\sklearn\\svm\\base.py:929: ConvergenceWarning: Liblinear failed to converge, increase the number of iterations.\n",
      "  \"the number of iterations.\", ConvergenceWarning)\n",
      "C:\\Users\\shive\\Anaconda3\\lib\\site-packages\\sklearn\\svm\\base.py:929: ConvergenceWarning: Liblinear failed to converge, increase the number of iterations.\n",
      "  \"the number of iterations.\", ConvergenceWarning)\n",
      "C:\\Users\\shive\\Anaconda3\\lib\\site-packages\\sklearn\\svm\\base.py:929: ConvergenceWarning: Liblinear failed to converge, increase the number of iterations.\n",
      "  \"the number of iterations.\", ConvergenceWarning)\n",
      "C:\\Users\\shive\\Anaconda3\\lib\\site-packages\\sklearn\\svm\\base.py:929: ConvergenceWarning: Liblinear failed to converge, increase the number of iterations.\n",
      "  \"the number of iterations.\", ConvergenceWarning)\n",
      "C:\\Users\\shive\\Anaconda3\\lib\\site-packages\\sklearn\\svm\\base.py:929: ConvergenceWarning: Liblinear failed to converge, increase the number of iterations.\n",
      "  \"the number of iterations.\", ConvergenceWarning)\n",
      "C:\\Users\\shive\\Anaconda3\\lib\\site-packages\\sklearn\\svm\\base.py:929: ConvergenceWarning: Liblinear failed to converge, increase the number of iterations.\n",
      "  \"the number of iterations.\", ConvergenceWarning)\n",
      "C:\\Users\\shive\\Anaconda3\\lib\\site-packages\\sklearn\\svm\\base.py:929: ConvergenceWarning: Liblinear failed to converge, increase the number of iterations.\n",
      "  \"the number of iterations.\", ConvergenceWarning)\n",
      "C:\\Users\\shive\\Anaconda3\\lib\\site-packages\\sklearn\\svm\\base.py:929: ConvergenceWarning: Liblinear failed to converge, increase the number of iterations.\n",
      "  \"the number of iterations.\", ConvergenceWarning)\n",
      "C:\\Users\\shive\\Anaconda3\\lib\\site-packages\\sklearn\\svm\\base.py:929: ConvergenceWarning: Liblinear failed to converge, increase the number of iterations.\n",
      "  \"the number of iterations.\", ConvergenceWarning)\n",
      "C:\\Users\\shive\\Anaconda3\\lib\\site-packages\\sklearn\\svm\\base.py:929: ConvergenceWarning: Liblinear failed to converge, increase the number of iterations.\n",
      "  \"the number of iterations.\", ConvergenceWarning)\n",
      "C:\\Users\\shive\\Anaconda3\\lib\\site-packages\\sklearn\\svm\\base.py:929: ConvergenceWarning: Liblinear failed to converge, increase the number of iterations.\n",
      "  \"the number of iterations.\", ConvergenceWarning)\n",
      "C:\\Users\\shive\\Anaconda3\\lib\\site-packages\\sklearn\\svm\\base.py:929: ConvergenceWarning: Liblinear failed to converge, increase the number of iterations.\n",
      "  \"the number of iterations.\", ConvergenceWarning)\n",
      "C:\\Users\\shive\\Anaconda3\\lib\\site-packages\\sklearn\\svm\\base.py:929: ConvergenceWarning: Liblinear failed to converge, increase the number of iterations.\n",
      "  \"the number of iterations.\", ConvergenceWarning)\n",
      "C:\\Users\\shive\\Anaconda3\\lib\\site-packages\\sklearn\\svm\\base.py:929: ConvergenceWarning: Liblinear failed to converge, increase the number of iterations.\n",
      "  \"the number of iterations.\", ConvergenceWarning)\n",
      "C:\\Users\\shive\\Anaconda3\\lib\\site-packages\\sklearn\\svm\\base.py:929: ConvergenceWarning: Liblinear failed to converge, increase the number of iterations.\n",
      "  \"the number of iterations.\", ConvergenceWarning)\n",
      "C:\\Users\\shive\\Anaconda3\\lib\\site-packages\\sklearn\\svm\\base.py:929: ConvergenceWarning: Liblinear failed to converge, increase the number of iterations.\n",
      "  \"the number of iterations.\", ConvergenceWarning)\n",
      "C:\\Users\\shive\\Anaconda3\\lib\\site-packages\\sklearn\\svm\\base.py:929: ConvergenceWarning: Liblinear failed to converge, increase the number of iterations.\n",
      "  \"the number of iterations.\", ConvergenceWarning)\n",
      "C:\\Users\\shive\\Anaconda3\\lib\\site-packages\\sklearn\\svm\\base.py:929: ConvergenceWarning: Liblinear failed to converge, increase the number of iterations.\n",
      "  \"the number of iterations.\", ConvergenceWarning)\n",
      "C:\\Users\\shive\\Anaconda3\\lib\\site-packages\\sklearn\\svm\\base.py:929: ConvergenceWarning: Liblinear failed to converge, increase the number of iterations.\n",
      "  \"the number of iterations.\", ConvergenceWarning)\n",
      "C:\\Users\\shive\\Anaconda3\\lib\\site-packages\\sklearn\\svm\\base.py:929: ConvergenceWarning: Liblinear failed to converge, increase the number of iterations.\n",
      "  \"the number of iterations.\", ConvergenceWarning)\n",
      "C:\\Users\\shive\\Anaconda3\\lib\\site-packages\\sklearn\\svm\\base.py:929: ConvergenceWarning: Liblinear failed to converge, increase the number of iterations.\n",
      "  \"the number of iterations.\", ConvergenceWarning)\n",
      "C:\\Users\\shive\\Anaconda3\\lib\\site-packages\\sklearn\\svm\\base.py:929: ConvergenceWarning: Liblinear failed to converge, increase the number of iterations.\n",
      "  \"the number of iterations.\", ConvergenceWarning)\n",
      "C:\\Users\\shive\\Anaconda3\\lib\\site-packages\\sklearn\\svm\\base.py:929: ConvergenceWarning: Liblinear failed to converge, increase the number of iterations.\n",
      "  \"the number of iterations.\", ConvergenceWarning)\n",
      "C:\\Users\\shive\\Anaconda3\\lib\\site-packages\\sklearn\\svm\\base.py:929: ConvergenceWarning: Liblinear failed to converge, increase the number of iterations.\n",
      "  \"the number of iterations.\", ConvergenceWarning)\n",
      "C:\\Users\\shive\\Anaconda3\\lib\\site-packages\\sklearn\\svm\\base.py:929: ConvergenceWarning: Liblinear failed to converge, increase the number of iterations.\n",
      "  \"the number of iterations.\", ConvergenceWarning)\n",
      "C:\\Users\\shive\\Anaconda3\\lib\\site-packages\\sklearn\\svm\\base.py:929: ConvergenceWarning: Liblinear failed to converge, increase the number of iterations.\n",
      "  \"the number of iterations.\", ConvergenceWarning)\n",
      "C:\\Users\\shive\\Anaconda3\\lib\\site-packages\\sklearn\\svm\\base.py:929: ConvergenceWarning: Liblinear failed to converge, increase the number of iterations.\n",
      "  \"the number of iterations.\", ConvergenceWarning)\n",
      "C:\\Users\\shive\\Anaconda3\\lib\\site-packages\\sklearn\\svm\\base.py:929: ConvergenceWarning: Liblinear failed to converge, increase the number of iterations.\n",
      "  \"the number of iterations.\", ConvergenceWarning)\n",
      "C:\\Users\\shive\\Anaconda3\\lib\\site-packages\\sklearn\\svm\\base.py:929: ConvergenceWarning: Liblinear failed to converge, increase the number of iterations.\n",
      "  \"the number of iterations.\", ConvergenceWarning)\n",
      "C:\\Users\\shive\\Anaconda3\\lib\\site-packages\\sklearn\\svm\\base.py:929: ConvergenceWarning: Liblinear failed to converge, increase the number of iterations.\n",
      "  \"the number of iterations.\", ConvergenceWarning)\n",
      "C:\\Users\\shive\\Anaconda3\\lib\\site-packages\\sklearn\\svm\\base.py:929: ConvergenceWarning: Liblinear failed to converge, increase the number of iterations.\n",
      "  \"the number of iterations.\", ConvergenceWarning)\n",
      "C:\\Users\\shive\\Anaconda3\\lib\\site-packages\\sklearn\\svm\\base.py:929: ConvergenceWarning: Liblinear failed to converge, increase the number of iterations.\n",
      "  \"the number of iterations.\", ConvergenceWarning)\n",
      "C:\\Users\\shive\\Anaconda3\\lib\\site-packages\\sklearn\\svm\\base.py:929: ConvergenceWarning: Liblinear failed to converge, increase the number of iterations.\n",
      "  \"the number of iterations.\", ConvergenceWarning)\n",
      "C:\\Users\\shive\\Anaconda3\\lib\\site-packages\\sklearn\\svm\\base.py:929: ConvergenceWarning: Liblinear failed to converge, increase the number of iterations.\n",
      "  \"the number of iterations.\", ConvergenceWarning)\n",
      "C:\\Users\\shive\\Anaconda3\\lib\\site-packages\\sklearn\\svm\\base.py:929: ConvergenceWarning: Liblinear failed to converge, increase the number of iterations.\n",
      "  \"the number of iterations.\", ConvergenceWarning)\n"
     ]
    },
    {
     "name": "stderr",
     "output_type": "stream",
     "text": [
      "C:\\Users\\shive\\Anaconda3\\lib\\site-packages\\sklearn\\svm\\base.py:929: ConvergenceWarning: Liblinear failed to converge, increase the number of iterations.\n",
      "  \"the number of iterations.\", ConvergenceWarning)\n",
      "C:\\Users\\shive\\Anaconda3\\lib\\site-packages\\sklearn\\svm\\base.py:929: ConvergenceWarning: Liblinear failed to converge, increase the number of iterations.\n",
      "  \"the number of iterations.\", ConvergenceWarning)\n",
      "C:\\Users\\shive\\Anaconda3\\lib\\site-packages\\sklearn\\svm\\base.py:929: ConvergenceWarning: Liblinear failed to converge, increase the number of iterations.\n",
      "  \"the number of iterations.\", ConvergenceWarning)\n",
      "C:\\Users\\shive\\Anaconda3\\lib\\site-packages\\sklearn\\svm\\base.py:929: ConvergenceWarning: Liblinear failed to converge, increase the number of iterations.\n",
      "  \"the number of iterations.\", ConvergenceWarning)\n",
      "C:\\Users\\shive\\Anaconda3\\lib\\site-packages\\sklearn\\svm\\base.py:929: ConvergenceWarning: Liblinear failed to converge, increase the number of iterations.\n",
      "  \"the number of iterations.\", ConvergenceWarning)\n",
      "C:\\Users\\shive\\Anaconda3\\lib\\site-packages\\sklearn\\svm\\base.py:929: ConvergenceWarning: Liblinear failed to converge, increase the number of iterations.\n",
      "  \"the number of iterations.\", ConvergenceWarning)\n",
      "C:\\Users\\shive\\Anaconda3\\lib\\site-packages\\sklearn\\svm\\base.py:929: ConvergenceWarning: Liblinear failed to converge, increase the number of iterations.\n",
      "  \"the number of iterations.\", ConvergenceWarning)\n",
      "C:\\Users\\shive\\Anaconda3\\lib\\site-packages\\sklearn\\svm\\base.py:929: ConvergenceWarning: Liblinear failed to converge, increase the number of iterations.\n",
      "  \"the number of iterations.\", ConvergenceWarning)\n",
      "C:\\Users\\shive\\Anaconda3\\lib\\site-packages\\sklearn\\svm\\base.py:929: ConvergenceWarning: Liblinear failed to converge, increase the number of iterations.\n",
      "  \"the number of iterations.\", ConvergenceWarning)\n",
      "C:\\Users\\shive\\Anaconda3\\lib\\site-packages\\sklearn\\svm\\base.py:929: ConvergenceWarning: Liblinear failed to converge, increase the number of iterations.\n",
      "  \"the number of iterations.\", ConvergenceWarning)\n"
     ]
    },
    {
     "data": {
      "text/plain": [
       "GridSearchCV(cv=5, error_score='raise-deprecating',\n",
       "             estimator=LinearSVC(C=1.0, class_weight=None, dual=True,\n",
       "                                 fit_intercept=True, intercept_scaling=1,\n",
       "                                 loss='squared_hinge', max_iter=1000,\n",
       "                                 multi_class='ovr', penalty='l2',\n",
       "                                 random_state=None, tol=0.0001, verbose=0),\n",
       "             iid='warn', n_jobs=None,\n",
       "             param_grid={'C': array([ 1,  2,  3,  4,  5,  6,  7,  8,  9, 10])},\n",
       "             pre_dispatch='2*n_jobs', refit=True, return_train_score=True,\n",
       "             scoring=make_scorer(accuracy_score), verbose=0)"
      ]
     },
     "execution_count": 107,
     "metadata": {},
     "output_type": "execute_result"
    }
   ],
   "source": [
    "from sklearn.svm import LinearSVC\n",
    "svm = LinearSVC(penalty='l2')\n",
    "cvf = GridSearchCV(svm,param_grid,return_train_score=True,refit=True,cv=5,scoring = make_scorer(accuracy_score,greater_is_better=True))\n",
    "cvf.fit(train,y_train)"
   ]
  },
  {
   "cell_type": "code",
   "execution_count": 109,
   "metadata": {},
   "outputs": [],
   "source": [
    "C=cvf.best_params_['C']"
   ]
  },
  {
   "cell_type": "markdown",
   "metadata": {},
   "source": [
    "Conductiong individual validation testing on epochs since including epochs in GridSearch increases training time exponentially"
   ]
  },
  {
   "cell_type": "code",
   "execution_count": 110,
   "metadata": {},
   "outputs": [],
   "source": [
    "train_svm, val_svm, y_train_svm, y_val_svm = train_test_split(train, y_train, test_size=0.25, random_state=42)"
   ]
  },
  {
   "cell_type": "code",
   "execution_count": 115,
   "metadata": {},
   "outputs": [
    {
     "data": {
      "text/plain": [
       "[<matplotlib.lines.Line2D at 0x27ce033a630>]"
      ]
     },
     "execution_count": 115,
     "metadata": {},
     "output_type": "execute_result"
    },
    {
     "data": {
      "image/png": "[encoded data removed]",
      "text/plain": [
       "<Figure size 432x288 with 1 Axes>"
      ]
     },
     "metadata": {
      "needs_background": "light"
     },
     "output_type": "display_data"
    }
   ],
   "source": [
    "epochs = 1000*np.arange(1,11,1)\n",
    "e=[]\n",
    "for epoch in epochs:\n",
    "    svc = LinearSVC(max_iter=epoch,dual=False,C=C,penalty='l2')\n",
    "    svc.fit(train_svm,y_train_svm)\n",
    "    y_pred_svm=svc.predict(val_svm)\n",
    "    e.append(np.mean(y_pred_svm!=y_val_svm))\n",
    "plt.plot(epochs,e)\n",
    "    "
   ]
  },
  {
   "cell_type": "markdown",
   "metadata": {},
   "source": [
    "As we can see, by changing the number of epochs we dont see any performance improvement. That means we can pick any parameter"
   ]
  },
  {
   "cell_type": "code",
   "execution_count": 134,
   "metadata": {
    "colab": {},
    "colab_type": "code",
    "id": "CchMXCku8-LO"
   },
   "outputs": [
    {
     "name": "stdout",
     "output_type": "stream",
     "text": [
      "error rate SVM =  0.38666666666666666\n"
     ]
    }
   ],
   "source": [
    "svc = LinearSVC(max_iter=5000,dual=False,C=C,penalty='l2')\n",
    "svc.fit(train,y_train)\n",
    "y_pred_svm=svc.predict(test)\n",
    "print(\"error rate SVM = \",np.mean(y_pred_svm!=y_test))"
   ]
  },
  {
   "cell_type": "markdown",
   "metadata": {},
   "source": [
    "### Test error comes out to be 38.6%"
   ]
  },
  {
   "cell_type": "markdown",
   "metadata": {
    "colab": {},
    "colab_type": "code",
    "id": "OzYOQg2b53Nj"
   },
   "source": [
    "## SVM With Feature selection"
   ]
  },
  {
   "cell_type": "markdown",
   "metadata": {},
   "source": [
    "### Dimensionality Reduction"
   ]
  },
  {
   "cell_type": "markdown",
   "metadata": {},
   "source": [
    "Extracting out the feature importance values from Random forest"
   ]
  },
  {
   "cell_type": "code",
   "execution_count": 118,
   "metadata": {},
   "outputs": [],
   "source": [
    "importance = forest.feature_importances_\n",
    "feature_imp = pd.DataFrame(columns=['Features','Importance'])\n",
    "feature_imp['Features'] = train.columns\n",
    "feature_imp['Importance'] = importance"
   ]
  },
  {
   "cell_type": "code",
   "execution_count": 119,
   "metadata": {},
   "outputs": [
    {
     "data": {
      "image/png": "[encoded data removed]",
      "text/plain": [
       "<Figure size 1152x576 with 1 Axes>"
      ]
     },
     "metadata": {
      "needs_background": "light"
     },
     "output_type": "display_data"
    },
    {
     "data": {
      "image/png": "[encoded data removed]",
      "text/plain": [
       "<Figure size 432x288 with 1 Axes>"
      ]
     },
     "metadata": {
      "needs_background": "light"
     },
     "output_type": "display_data"
    },
    {
     "data": {
      "image/png": "[encoded data removed]",
      "text/plain": [
       "<Figure size 432x288 with 1 Axes>"
      ]
     },
     "metadata": {
      "needs_background": "light"
     },
     "output_type": "display_data"
    },
    {
     "data": {
      "image/png": "[encoded data removed]",
      "text/plain": [
       "<Figure size 432x288 with 1 Axes>"
      ]
     },
     "metadata": {
      "needs_background": "light"
     },
     "output_type": "display_data"
    },
    {
     "data": {
      "image/png": "[encoded data removed]",
      "text/plain": [
       "<Figure size 432x288 with 1 Axes>"
      ]
     },
     "metadata": {
      "needs_background": "light"
     },
     "output_type": "display_data"
    }
   ],
   "source": [
    "feature_imp_2=feature_imp.sort_values(by=['Importance'],ascending=False)\n",
    "plt.figure(figsize=(16,8))\n",
    "for i in range(5):\n",
    "    if train[feature_imp_2['Features'].iloc[i]].unique().shape[0]<10:\n",
    "        sns.countplot(train[feature_imp_2['Features'].iloc[i]], hue=y_train)\n",
    "    else:\n",
    "        sns.violinplot(train[feature_imp_2['Features'].iloc[i]],hue=y_train)\n",
    "    plt.show()"
   ]
  },
  {
   "cell_type": "markdown",
   "metadata": {},
   "source": [
    "From the above plots it is easy to observe that the 5 most important features actually tell us some information about the classification. One important observation is that most of them are categorical features"
   ]
  },
  {
   "cell_type": "code",
   "execution_count": 129,
   "metadata": {},
   "outputs": [
    {
     "data": {
      "image/png": "[encoded data removed]",
      "text/plain": [
       "<Figure size 432x288 with 1 Axes>"
      ]
     },
     "metadata": {
      "needs_background": "light"
     },
     "output_type": "display_data"
    }
   ],
   "source": [
    "plt.figure()\n",
    "plt.title(\"Feature importances\")\n",
    "indices = np.arange(1,21,1)\n",
    "plt.barh(range(20),feature_imp_2['Importance'].iloc[indices],\n",
    "       color=\"r\", align=\"center\")\n",
    "# If you want to define your own labels,\n",
    "# change indices to a list of labels on the following line.\n",
    "plt.yticks(range(20), [feature_imp_2['Features'].iloc[i] for i in indices])\n",
    "plt.ylim([-1, 20])\n",
    "plt.show()"
   ]
  },
  {
   "cell_type": "markdown",
   "metadata": {},
   "source": [
    "### Checking for performance imporvement of SVM after removing features with 0 importance"
   ]
  },
  {
   "cell_type": "code",
   "execution_count": 130,
   "metadata": {},
   "outputs": [],
   "source": [
    "indexes=list(np.where(forest.feature_importances_==0)[0])"
   ]
  },
  {
   "cell_type": "code",
   "execution_count": 133,
   "metadata": {},
   "outputs": [],
   "source": [
    "train_modified = train.drop(train.columns[indexes],inplace=False,axis=1)\n",
    "test_modified = test.drop(test.columns[indexes],inplace=False,axis=1)"
   ]
  },
  {
   "cell_type": "code",
   "execution_count": 135,
   "metadata": {},
   "outputs": [
    {
     "name": "stdout",
     "output_type": "stream",
     "text": [
      "Error= 0.3818\n"
     ]
    }
   ],
   "source": [
    "svc = LinearSVC(max_iter=5000,dual=False,C=C,penalty='l2')\n",
    "svc.fit(train_modified,y_train)\n",
    "y_pred_svm_modified=svc.predict(test_modified)\n",
    "print(\"Error=\",np.mean(y_pred_svm_modified!=y_test) )"
   ]
  },
  {
   "cell_type": "markdown",
   "metadata": {},
   "source": [
    "#### As we can see the performance improved slightly. If we remove more features we might improve performance but if we remove too many features, we might lose information and increase the error, therefore threshold has become a new hyper parameter which we will need to tune"
   ]
  },
  {
   "cell_type": "code",
   "execution_count": 140,
   "metadata": {},
   "outputs": [],
   "source": [
    "unique_importances = np.unique(forest.feature_importances_)\n",
    "unique_importances = np.sort(unique_importances)"
   ]
  },
  {
   "cell_type": "code",
   "execution_count": 143,
   "metadata": {},
   "outputs": [],
   "source": [
    "train_svm_f, val_svm_f, y_train_svm_f, y_val_svm_f = train_test_split(train, y_train, test_size=0.25, random_state=42)"
   ]
  },
  {
   "cell_type": "code",
   "execution_count": 151,
   "metadata": {},
   "outputs": [],
   "source": [
    "e=[]\n",
    "for threshold in unique_importances[:10]:\n",
    "    indexes=list(np.where(forest.feature_importances_<=threshold)[0])\n",
    "    train_modified = train_svm_f.drop(train.columns[indexes],inplace=False,axis=1)\n",
    "    test_modified = val_svm_f.drop(test.columns[indexes],inplace=False,axis=1)\n",
    "    svc = LinearSVC(max_iter=5000,dual=False,C=C,penalty='l2')\n",
    "    svc.fit(train_modified,y_train_svm_f)\n",
    "    y_pred_svm_modified_f=svc.predict(test_modified)\n",
    "    e.append(np.mean(y_pred_svm_modified_f!=y_val_svm_f))"
   ]
  },
  {
   "cell_type": "code",
   "execution_count": 152,
   "metadata": {},
   "outputs": [
    {
     "data": {
      "image/png": "[encoded data removed]",
      "text/plain": [
       "<Figure size 432x288 with 1 Axes>"
      ]
     },
     "metadata": {
      "needs_background": "light"
     },
     "output_type": "display_data"
    }
   ],
   "source": [
    "plt.plot(unique_importances[:10],e)\n",
    "plt.show()"
   ]
  },
  {
   "cell_type": "code",
   "execution_count": 153,
   "metadata": {},
   "outputs": [
    {
     "name": "stdout",
     "output_type": "stream",
     "text": [
      "Test Error is  0.3814666666666667\n"
     ]
    }
   ],
   "source": [
    "threshold = unique_importances[np.argmin(e)]\n",
    "indexes=list(np.where(forest.feature_importances_<=threshold)[0])\n",
    "train_modified = train.drop(train.columns[indexes],inplace=False,axis=1)\n",
    "test_modified = test.drop(test.columns[indexes],inplace=False,axis=1)\n",
    "svc = LinearSVC(max_iter=5000,dual=False,C=C,penalty='l2')\n",
    "svc.fit(train_modified,y_train)\n",
    "y_pred_svm_modified_f=svc.predict(test_modified)\n",
    "print(\"Test Error is \",np.mean(y_pred_svm_modified_f!=y_test))"
   ]
  },
  {
   "cell_type": "markdown",
   "metadata": {},
   "source": [
    "We see that there is a performance improvement over the previous one"
   ]
  },
  {
   "cell_type": "markdown",
   "metadata": {},
   "source": [
    "### After performing dimensionality reduction, test error improved from 38.6% to 38.1%"
   ]
  },
  {
   "cell_type": "markdown",
   "metadata": {},
   "source": [
    "# Additional Experiment LightGBM"
   ]
  },
  {
   "cell_type": "code",
   "execution_count": 1,
   "metadata": {},
   "outputs": [],
   "source": [
    "import lightgbm as lgb"
   ]
  },
  {
   "cell_type": "markdown",
   "metadata": {},
   "source": [
    "Loading value from pickle files which were stored since the data is large"
   ]
  },
  {
   "cell_type": "code",
   "execution_count": 4,
   "metadata": {},
   "outputs": [],
   "source": [
    "train_lgb=pickle.load(open(\"data_lgb.p\",\"rb\"))\n",
    "y_train_lgb=pickle.load(open(\"y_train.p\",\"rb\"))\n",
    "y_test_lgb=pickle.load(open(\"y_test.p\",\"rb\"))\n",
    "test_lgb=pickle.load(open(\"y_lgb.p\",\"rb\"))"
   ]
  },
  {
   "cell_type": "markdown",
   "metadata": {},
   "source": [
    "##### Here we are trying to make the data compliant with the one which is expected by LightGBM by setting the data type of all categorical features as category"
   ]
  },
  {
   "cell_type": "code",
   "execution_count": 25,
   "metadata": {},
   "outputs": [],
   "source": [
    "for c in train_lgb.columns:\n",
    "    col_type = train_lgb[c].dtype\n",
    "    if col_type == 'object' or col_type.name == 'category':\n",
    "        train_lgb[c] = train_lgb[c].astype('category')\n",
    "        test_lgb[c] = test_lgb[c].astype('category')"
   ]
  },
  {
   "cell_type": "markdown",
   "metadata": {},
   "source": [
    "Defining training hyper parameters"
   ]
  },
  {
   "cell_type": "code",
   "execution_count": 29,
   "metadata": {},
   "outputs": [],
   "source": [
    "fit_params={ \n",
    "            'verbose': 100,\n",
    "            'feature_name': 'auto', # that's actually the default\n",
    "            'categorical_feature': 'auto' # that's actually the default\n",
    "           }"
   ]
  },
  {
   "cell_type": "markdown",
   "metadata": {},
   "source": [
    "Reducing the Hyper parameter search space as performed in Random forest"
   ]
  },
  {
   "cell_type": "code",
   "execution_count": 44,
   "metadata": {},
   "outputs": [],
   "source": [
    "num_leaves=np.arange(100,1001,100)\n",
    "learning_rate=[0.001,0.005,0.01,0.05]"
   ]
  },
  {
   "cell_type": "code",
   "execution_count": 36,
   "metadata": {},
   "outputs": [],
   "source": [
    "train_lgb_f, val_lgb_f, y_train_lgb_f, y_val_lgb_f = train_test_split(train_lgb, y_train_lgb, test_size=0.25, random_state=42)"
   ]
  },
  {
   "cell_type": "code",
   "execution_count": 37,
   "metadata": {},
   "outputs": [
    {
     "data": {
      "text/plain": [
       "[<matplotlib.lines.Line2D at 0x27f42945ac8>]"
      ]
     },
     "execution_count": 37,
     "metadata": {},
     "output_type": "execute_result"
    },
    {
     "data": {
      "image/png": "[encoded data removed]",
      "text/plain": [
       "<Figure size 432x288 with 1 Axes>"
      ]
     },
     "metadata": {
      "needs_background": "light"
     },
     "output_type": "display_data"
    }
   ],
   "source": [
    "e=[]\n",
    "for leaf in num_leaves:\n",
    "    clf = lgb.LGBMClassifier(boosting_type='gbdt',n_estimators=2000,num_leaves=leaf)   \n",
    "    clf.fit(train_lgb_f,y_train_lgb_f,**fit_params)\n",
    "    yhat=clf.predict(val_lgb_f)\n",
    "    e.append(np.mean(yhat!=y_val_lgb_f))\n",
    "plt.plot(num_leaves,e)"
   ]
  },
  {
   "cell_type": "code",
   "execution_count": null,
   "metadata": {},
   "outputs": [],
   "source": [
    "e=[]\n",
    "for rate in learning_rate:\n",
    "    clf = lgb.LGBMClassifier(boosting_type='gbdt',n_estimators=2000,learning_rate=rate)   \n",
    "    clf.fit(train_lgb_f,y_train_lgb_f,**fit_params)\n",
    "    yhat=clf.predict(val_lgb_f)\n",
    "    e.append(np.mean(yhat!=y_val_lgb_f))"
   ]
  },
  {
   "cell_type": "code",
   "execution_count": 43,
   "metadata": {},
   "outputs": [
    {
     "data": {
      "text/plain": [
       "[<matplotlib.lines.Line2D at 0x27f42d49828>]"
      ]
     },
     "execution_count": 43,
     "metadata": {},
     "output_type": "execute_result"
    },
    {
     "data": {
      "image/png": "[encoded data removed]",
      "text/plain": [
       "<Figure size 432x288 with 1 Axes>"
      ]
     },
     "metadata": {
      "needs_background": "light"
     },
     "output_type": "display_data"
    }
   ],
   "source": [
    "plt.plot(learning_rate,e)"
   ]
  },
  {
   "cell_type": "code",
   "execution_count": 45,
   "metadata": {},
   "outputs": [],
   "source": [
    "num_leaves=[800,900,1000]\n",
    "learning_rate=[0.001,0.05]\n",
    "param_grid={'num_leaves':num_leaves,'learning_rate':learning_rate}"
   ]
  },
  {
   "cell_type": "markdown",
   "metadata": {},
   "source": [
    "Hyperparameter tuning and validation testing using Grid Search"
   ]
  },
  {
   "cell_type": "code",
   "execution_count": 46,
   "metadata": {},
   "outputs": [
    {
     "data": {
      "text/plain": [
       "GridSearchCV(cv=5, error_score='raise-deprecating',\n",
       "             estimator=LGBMClassifier(boosting_type='gbdt', class_weight=None,\n",
       "                                      colsample_bytree=1.0,\n",
       "                                      importance_type='split',\n",
       "                                      learning_rate=0.1, max_depth=-1,\n",
       "                                      min_child_samples=20,\n",
       "                                      min_child_weight=0.001,\n",
       "                                      min_split_gain=0.0, n_estimators=2000,\n",
       "                                      n_jobs=-1, num_leaves=31, objective=None,\n",
       "                                      random_state=None, reg_alpha=0.0,\n",
       "                                      reg_lambda=0.0, silent=True,\n",
       "                                      subsample=1.0, subsample_for_bin=200000,\n",
       "                                      subsample_freq=0),\n",
       "             iid='warn', n_jobs=None,\n",
       "             param_grid={'learning_rate': [0.001, 0.05],\n",
       "                         'num_leaves': [800, 900, 1000]},\n",
       "             pre_dispatch='2*n_jobs', refit=True, return_train_score=True,\n",
       "             scoring=make_scorer(accuracy_score), verbose=0)"
      ]
     },
     "execution_count": 46,
     "metadata": {},
     "output_type": "execute_result"
    }
   ],
   "source": [
    "clf = lgb.LGBMClassifier(boosting_type='gbdt', \n",
    "                                 n_estimators=2000)\n",
    "cvf = GridSearchCV(clf,param_grid,return_train_score=True,refit=True,cv=5,scoring = make_scorer(accuracy_score,greater_is_better=True))\n",
    "cvf.fit(train_lgb,y_train_lgb)\n"
   ]
  },
  {
   "cell_type": "code",
   "execution_count": 51,
   "metadata": {},
   "outputs": [
    {
     "name": "stdout",
     "output_type": "stream",
     "text": [
      "Validation error is  0.3706990422151275\n"
     ]
    }
   ],
   "source": [
    "print(\"Validation error is \", 1-cvf.best_score_)"
   ]
  },
  {
   "cell_type": "code",
   "execution_count": 53,
   "metadata": {},
   "outputs": [],
   "source": [
    "best_rate=cvf.best_params_['learning_rate']\n",
    "best_leaf=cvf.best_params_['num_leaves']"
   ]
  },
  {
   "cell_type": "code",
   "execution_count": 55,
   "metadata": {},
   "outputs": [
    {
     "data": {
      "text/plain": [
       "LGBMClassifier(boosting_type='gbdt', class_weight=None, colsample_bytree=1.0,\n",
       "               importance_type='split', learning_rate=0.05, max_depth=-1,\n",
       "               min_child_samples=20, min_child_weight=0.001, min_split_gain=0.0,\n",
       "               n_estimators=2000, n_jobs=-1, num_leaves=900, objective=None,\n",
       "               random_state=None, reg_alpha=0.0, reg_lambda=0.0, silent=True,\n",
       "               subsample=1.0, subsample_for_bin=200000, subsample_freq=0)"
      ]
     },
     "execution_count": 55,
     "metadata": {},
     "output_type": "execute_result"
    }
   ],
   "source": [
    "clf = lgb.LGBMClassifier(boosting_type='gbdt', learning_rate=best_rate,num_leaves=best_leaf,\n",
    "                                 n_estimators=2000)\n",
    "clf.fit(train_lgb,y_train_lgb,**fit_params)"
   ]
  },
  {
   "cell_type": "code",
   "execution_count": 58,
   "metadata": {},
   "outputs": [
    {
     "name": "stdout",
     "output_type": "stream",
     "text": [
      "Test Error is 0.3751333333333333\n"
     ]
    }
   ],
   "source": [
    "y_pred_lgb = clf.predict(test_lgb)\n",
    "print(\"Test Error is\",np.mean(y_pred_lgb!=y_test_lgb))"
   ]
  },
  {
   "cell_type": "markdown",
   "metadata": {},
   "source": [
    "### Test error comes out to be 37.5%"
   ]
  },
  {
   "cell_type": "markdown",
   "metadata": {},
   "source": [
    "# Performance Metrics"
   ]
  },
  {
   "cell_type": "markdown",
   "metadata": {},
   "source": [
    "### Confusion Matrix"
   ]
  },
  {
   "cell_type": "code",
   "execution_count": 60,
   "metadata": {},
   "outputs": [],
   "source": [
    "from sklearn.metrics import confusion_matrix\n",
    "def print_confusion_matrix(yhat,yts):\n",
    "    C = confusion_matrix(yts,yhat)\n",
    "    Csum = np.sum(C,1)\n",
    "    C = C / Csum[None,:]\n",
    "    print(np.array_str(C, precision=3, suppress_small=True))\n",
    "    plt.imshow(C, interpolation='none')\n",
    "    plt.colorbar()"
   ]
  },
  {
   "cell_type": "markdown",
   "metadata": {},
   "source": [
    "#### Random Forest"
   ]
  },
  {
   "cell_type": "code",
   "execution_count": 173,
   "metadata": {},
   "outputs": [
    {
     "name": "stdout",
     "output_type": "stream",
     "text": [
      "[[0.626 0.371]\n",
      " [0.369 0.635]]\n"
     ]
    },
    {
     "data": {
      "image/png": "[encoded data removed]",
      "text/plain": [
       "<Figure size 432x288 with 2 Axes>"
      ]
     },
     "metadata": {
      "needs_background": "light"
     },
     "output_type": "display_data"
    }
   ],
   "source": [
    "print_confusion_matrix(y_pred,y_test)"
   ]
  },
  {
   "cell_type": "markdown",
   "metadata": {},
   "source": [
    "#### SVM"
   ]
  },
  {
   "cell_type": "code",
   "execution_count": 183,
   "metadata": {},
   "outputs": [
    {
     "name": "stdout",
     "output_type": "stream",
     "text": [
      "SVM without feature deletion\n",
      "[[0.745 0.253]\n",
      " [0.512 0.493]]\n"
     ]
    },
    {
     "data": {
      "image/png": "[encoded data removed]",
      "text/plain": [
       "<Figure size 432x288 with 2 Axes>"
      ]
     },
     "metadata": {
      "needs_background": "light"
     },
     "output_type": "display_data"
    }
   ],
   "source": [
    "print(\"SVM without feature deletion\")\n",
    "print_confusion_matrix(y_pred_svm_modified,y_test)"
   ]
  },
  {
   "cell_type": "code",
   "execution_count": 184,
   "metadata": {},
   "outputs": [
    {
     "name": "stdout",
     "output_type": "stream",
     "text": [
      "SVM with feature deletion\n",
      "[[0.746 0.252]\n",
      " [0.512 0.492]]\n"
     ]
    },
    {
     "data": {
      "image/png": "[encoded data removed]",
      "text/plain": [
       "<Figure size 432x288 with 2 Axes>"
      ]
     },
     "metadata": {
      "needs_background": "light"
     },
     "output_type": "display_data"
    }
   ],
   "source": [
    "print(\"SVM with feature deletion\")\n",
    "print_confusion_matrix(y_pred_svm_modified_f,y_test)"
   ]
  },
  {
   "cell_type": "markdown",
   "metadata": {},
   "source": [
    "#### LGBM Classifier"
   ]
  },
  {
   "cell_type": "code",
   "execution_count": 61,
   "metadata": {},
   "outputs": [
    {
     "name": "stdout",
     "output_type": "stream",
     "text": [
      "[[0.698 0.3  ]\n",
      " [0.451 0.553]]\n"
     ]
    },
    {
     "data": {
      "image/png": "[encoded data removed]",
      "text/plain": [
       "<Figure size 432x288 with 2 Axes>"
      ]
     },
     "metadata": {
      "needs_background": "light"
     },
     "output_type": "display_data"
    }
   ],
   "source": [
    "print_confusion_matrix(y_pred_lgb,y_test_lgb)"
   ]
  },
  {
   "cell_type": "markdown",
   "metadata": {},
   "source": [
    "### Area Under curve Score"
   ]
  },
  {
   "cell_type": "code",
   "execution_count": 63,
   "metadata": {},
   "outputs": [],
   "source": [
    "import numpy as np\n",
    "from sklearn import metrics\n",
    "def auc(y_pred,y):    \n",
    "    fpr, tpr, thresholds = metrics.roc_curve(y, y_pred)\n",
    "    return metrics.auc(fpr, tpr)"
   ]
  },
  {
   "cell_type": "markdown",
   "metadata": {},
   "source": [
    "#### Random Forest"
   ]
  },
  {
   "cell_type": "code",
   "execution_count": 180,
   "metadata": {},
   "outputs": [
    {
     "name": "stdout",
     "output_type": "stream",
     "text": [
      "0.6301140842101729\n"
     ]
    }
   ],
   "source": [
    "print(auc(y_pred,y_test))"
   ]
  },
  {
   "cell_type": "markdown",
   "metadata": {},
   "source": [
    "#### SVM"
   ]
  },
  {
   "cell_type": "code",
   "execution_count": 182,
   "metadata": {},
   "outputs": [
    {
     "name": "stdout",
     "output_type": "stream",
     "text": [
      "SVM without feature deletion 0.6187383393432798\n",
      "SVM with feature deletion 0.6190759454892121\n"
     ]
    }
   ],
   "source": [
    "print(\"SVM without feature deletion\",auc(y_pred_svm_modified,y_test))\n",
    "print(\"SVM with feature deletion\",auc(y_pred_svm_modified_f,y_test))"
   ]
  },
  {
   "cell_type": "markdown",
   "metadata": {},
   "source": [
    "#### LGBM Classifier"
   ]
  },
  {
   "cell_type": "code",
   "execution_count": 64,
   "metadata": {},
   "outputs": [
    {
     "name": "stdout",
     "output_type": "stream",
     "text": [
      "0.6251752920799837\n"
     ]
    }
   ],
   "source": [
    "print(auc(y_pred_lgb,y_test_lgb))"
   ]
  },
  {
   "cell_type": "markdown",
   "metadata": {},
   "source": [
    "# Results"
   ]
  },
  {
   "cell_type": "markdown",
   "metadata": {},
   "source": [
    "The below table captures the summary of the results of all our findings"
   ]
  },
  {
   "cell_type": "code",
   "execution_count": 4,
   "metadata": {},
   "outputs": [
    {
     "data": {
      "text/html": [
       "<div>\n",
       "<style scoped>\n",
       "    .dataframe tbody tr th:only-of-type {\n",
       "        vertical-align: middle;\n",
       "    }\n",
       "\n",
       "    .dataframe tbody tr th {\n",
       "        vertical-align: top;\n",
       "    }\n",
       "\n",
       "    .dataframe thead th {\n",
       "        text-align: right;\n",
       "    }\n",
       "</style>\n",
       "<table border=\"1\" class=\"dataframe\">\n",
       "  <thead>\n",
       "    <tr style=\"text-align: right;\">\n",
       "      <th></th>\n",
       "      <th>Classifier</th>\n",
       "      <th>Test Error(%)</th>\n",
       "      <th>AUC Score</th>\n",
       "    </tr>\n",
       "  </thead>\n",
       "  <tbody>\n",
       "    <tr>\n",
       "      <th>0</th>\n",
       "      <td>Random Forest</td>\n",
       "      <td>36.9</td>\n",
       "      <td>0.630</td>\n",
       "    </tr>\n",
       "    <tr>\n",
       "      <th>1</th>\n",
       "      <td>Linear SVM</td>\n",
       "      <td>38.6</td>\n",
       "      <td>0.618</td>\n",
       "    </tr>\n",
       "    <tr>\n",
       "      <th>2</th>\n",
       "      <td>Linear SVM after Dimensionality Reduction</td>\n",
       "      <td>38.1</td>\n",
       "      <td>0.619</td>\n",
       "    </tr>\n",
       "    <tr>\n",
       "      <th>3</th>\n",
       "      <td>LGBMClassifier</td>\n",
       "      <td>37.5</td>\n",
       "      <td>0.625</td>\n",
       "    </tr>\n",
       "  </tbody>\n",
       "</table>\n",
       "</div>"
      ],
      "text/plain": [
       "                                  Classifier  Test Error(%)  AUC Score\n",
       "0                              Random Forest           36.9      0.630\n",
       "1                                 Linear SVM           38.6      0.618\n",
       "2  Linear SVM after Dimensionality Reduction           38.1      0.619\n",
       "3                             LGBMClassifier           37.5      0.625"
      ]
     },
     "execution_count": 4,
     "metadata": {},
     "output_type": "execute_result"
    }
   ],
   "source": [
    "columns=['Classifier','Test Error(%)','AUC Score']\n",
    "results = pd.DataFrame(columns=columns)\n",
    "results['Classifier'] = np.array(['Random Forest','Linear SVM','Linear SVM after Dimensionality Reduction','LGBMClassifier'])\n",
    "results['Test Error(%)'] = np.array([36.9,38.6,38.1,37.5])\n",
    "results['AUC Score'] = np.array([0.63,0.618,0.619,0.625])\n",
    "results"
   ]
  },
  {
   "cell_type": "markdown",
   "metadata": {},
   "source": [
    "From the above results we can see that Random forest gives us the best accuracy followed by LGBMClassifier and then SVM <br>\n",
    "##### For SVM we see that our hypothesis was correct and indeed after removing unimportant feature there is an improvement in performance<br>\n",
    "From the above we can make 3 claims<br>\n",
    "1. In this problem Tree based ensemble methods are better when it comes towards handling categorical features and large data set than SVM in terms of computational performance and accuracy\n",
    "2. Gaussian kernel was not possible since the dimension of the data is large and it was not omputationally feasable as it forms an infinite space feature kernel\n",
    "3. Dimensionality reduction improved performance for SVM. This might be because unimportant features affect the support vectors such that it degrades the accuracy<br>"
   ]
  },
  {
   "cell_type": "markdown",
   "metadata": {},
   "source": [
    "# Evaluation of our Findings"
   ]
  },
  {
   "cell_type": "markdown",
   "metadata": {},
   "source": [
    "Random Forest - From the confusion matrix we can see we have a higher amount of false positives than false negatives. This is still good because in our problem it is better to classify a machine as a malware than not classifying a malware machine as one. From the business perspective, false positive cases helps them to put additional checks on that machine so that it does not get affected by malware<br>\n",
    "The highest AUC score also implies that this model has the best measure of seperability than the other classifiers"
   ]
  },
  {
   "cell_type": "markdown",
   "metadata": {},
   "source": [
    "LightGBM - The confusion matrix shows that it has a higher rate of false negatives. This means that our model failed to classify that it was a malware when it was actually one<br>\n",
    "The AUC score is slightly less than Random forest which shows that the hyper parameters were not tuned properly"
   ]
  },
  {
   "cell_type": "markdown",
   "metadata": {},
   "source": [
    "SVM - Both the instances of SVM nearly have the same confusion matrix plot. The AUC score is also similar. The false negative score is higher than that of all the other classifiers that we trained which means that there are more chances of misclassifying the actual malware as wrong."
   ]
  },
  {
   "cell_type": "markdown",
   "metadata": {},
   "source": [
    "### From all the performance metrics it is safe to say that Random Forest is the better classifier in our problem and it should be used for classification"
   ]
  },
  {
   "cell_type": "markdown",
   "metadata": {},
   "source": [
    "# Possible Next Steps"
   ]
  },
  {
   "cell_type": "markdown",
   "metadata": {},
   "source": [
    "It should be noted that this problem was picked from an ongoing kaggle competition. The leader has an AUC Score of 0.66. In comparison to that our AUC score is pretty good which means that with a little bit more hyper parameter tuning, we can improve the accuracy. Some possible steps that we would like to take"
   ]
  },
  {
   "cell_type": "markdown",
   "metadata": {},
   "source": [
    "1. LightGBM is a rally good gradient boosting classifier but it has a huge number of hyper parameters. In this problem we have just picked 2 of them. In future there is a huge amount of scope to improve the performance by including more hyper parameters to tune<br>\n",
    "2. The original dataset had 9 million rows. We had picked 150K rows because of hardware limitations. We would like to extend the problem to encorporate all the data since more training data will help to better train our model<br>\n",
    "3. In future we would like to perform other classifiers as well like AdaBoost etc. Also there is a scope of using other kernels as well with better hardware (More RAM)\n",
    "4. Training models on GPU lead to faster training times and thus can give you more time for experimentations. Most of sklearn's libraries are not implemented on GPUs. However other libraries like tensorflow can. This problem can be included to encorporate that as well to improve the performance\n",
    "\n"
   ]
  }
 ],
 "metadata": {
  "colab": {
   "collapsed_sections": [],
   "machine_shape": "hm",
   "name": "Makware Prediciton.ipynb",
   "provenance": []
  },
  "kernelspec": {
   "display_name": "Python 3",
   "language": "python",
   "name": "python3"
  },
  "language_info": {
   "codemirror_mode": {
    "name": "ipython",
    "version": 3
   },
   "file_extension": ".py",
   "mimetype": "text/x-python",
   "name": "python",
   "nbconvert_exporter": "python",
   "pygments_lexer": "ipython3",
   "version": "3.7.3"
  }
 },
 "nbformat": 4,
 "nbformat_minor": 1
}
